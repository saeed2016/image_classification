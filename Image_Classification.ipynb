{
  "nbformat": 4,
  "nbformat_minor": 0,
  "metadata": {
    "accelerator": "GPU",
    "colab": {
      "name": "Image_Classification.ipynb",
      "provenance": [],
      "collapsed_sections": [],
      "machine_shape": "hm"
    },
    "kernelspec": {
      "display_name": "Python 3",
      "language": "python",
      "name": "python3"
    },
    "language_info": {
      "codemirror_mode": {
        "name": "ipython",
        "version": 3
      },
      "file_extension": ".py",
      "mimetype": "text/x-python",
      "name": "python",
      "nbconvert_exporter": "python",
      "pygments_lexer": "ipython3",
      "version": "3.8.2"
    },
    "widgets": {
      "application/vnd.jupyter.widget-state+json": {
        "ab8396ca79fb4a419a32e11d0029d904": {
          "model_module": "@jupyter-widgets/controls",
          "model_name": "HBoxModel",
          "state": {
            "_dom_classes": [],
            "_model_module": "@jupyter-widgets/controls",
            "_model_module_version": "1.5.0",
            "_model_name": "HBoxModel",
            "_view_count": null,
            "_view_module": "@jupyter-widgets/controls",
            "_view_module_version": "1.5.0",
            "_view_name": "HBoxView",
            "box_style": "",
            "children": [
              "IPY_MODEL_4f87152a99f648c78f0c42f125e06839",
              "IPY_MODEL_eac4b95d90234661a692e64202ffcd80"
            ],
            "layout": "IPY_MODEL_a46eef775c404ae79a5d93a0237a46e8"
          }
        },
        "a46eef775c404ae79a5d93a0237a46e8": {
          "model_module": "@jupyter-widgets/base",
          "model_name": "LayoutModel",
          "state": {
            "_model_module": "@jupyter-widgets/base",
            "_model_module_version": "1.2.0",
            "_model_name": "LayoutModel",
            "_view_count": null,
            "_view_module": "@jupyter-widgets/base",
            "_view_module_version": "1.2.0",
            "_view_name": "LayoutView",
            "align_content": null,
            "align_items": null,
            "align_self": null,
            "border": null,
            "bottom": null,
            "display": null,
            "flex": null,
            "flex_flow": null,
            "grid_area": null,
            "grid_auto_columns": null,
            "grid_auto_flow": null,
            "grid_auto_rows": null,
            "grid_column": null,
            "grid_gap": null,
            "grid_row": null,
            "grid_template_areas": null,
            "grid_template_columns": null,
            "grid_template_rows": null,
            "height": null,
            "justify_content": null,
            "justify_items": null,
            "left": null,
            "margin": null,
            "max_height": null,
            "max_width": null,
            "min_height": null,
            "min_width": null,
            "object_fit": null,
            "object_position": null,
            "order": null,
            "overflow": null,
            "overflow_x": null,
            "overflow_y": null,
            "padding": null,
            "right": null,
            "top": null,
            "visibility": null,
            "width": null
          }
        },
        "4f87152a99f648c78f0c42f125e06839": {
          "model_module": "@jupyter-widgets/controls",
          "model_name": "FloatProgressModel",
          "state": {
            "_dom_classes": [],
            "_model_module": "@jupyter-widgets/controls",
            "_model_module_version": "1.5.0",
            "_model_name": "FloatProgressModel",
            "_view_count": null,
            "_view_module": "@jupyter-widgets/controls",
            "_view_module_version": "1.5.0",
            "_view_name": "ProgressView",
            "bar_style": "success",
            "description": "Dl Completed...: 100%",
            "description_tooltip": null,
            "layout": "IPY_MODEL_69399f7826a04d6b9c7adef8dec7178d",
            "max": 1,
            "min": 0,
            "orientation": "horizontal",
            "style": "IPY_MODEL_7b5c30ac17b94c18bddc208cdd9c50bb",
            "value": 1
          }
        },
        "eac4b95d90234661a692e64202ffcd80": {
          "model_module": "@jupyter-widgets/controls",
          "model_name": "HTMLModel",
          "state": {
            "_dom_classes": [],
            "_model_module": "@jupyter-widgets/controls",
            "_model_module_version": "1.5.0",
            "_model_name": "HTMLModel",
            "_view_count": null,
            "_view_module": "@jupyter-widgets/controls",
            "_view_module_version": "1.5.0",
            "_view_name": "HTMLView",
            "description": "",
            "description_tooltip": null,
            "layout": "IPY_MODEL_84769b3c0a3b42ec979233ad9b0b6b33",
            "placeholder": "​",
            "style": "IPY_MODEL_c572868b519745cabb4f84a514877ae7",
            "value": " 4/4 [00:02&lt;00:00,  1.38 url/s]"
          }
        },
        "7b5c30ac17b94c18bddc208cdd9c50bb": {
          "model_module": "@jupyter-widgets/controls",
          "model_name": "ProgressStyleModel",
          "state": {
            "_model_module": "@jupyter-widgets/controls",
            "_model_module_version": "1.5.0",
            "_model_name": "ProgressStyleModel",
            "_view_count": null,
            "_view_module": "@jupyter-widgets/base",
            "_view_module_version": "1.2.0",
            "_view_name": "StyleView",
            "bar_color": null,
            "description_width": "initial"
          }
        },
        "69399f7826a04d6b9c7adef8dec7178d": {
          "model_module": "@jupyter-widgets/base",
          "model_name": "LayoutModel",
          "state": {
            "_model_module": "@jupyter-widgets/base",
            "_model_module_version": "1.2.0",
            "_model_name": "LayoutModel",
            "_view_count": null,
            "_view_module": "@jupyter-widgets/base",
            "_view_module_version": "1.2.0",
            "_view_name": "LayoutView",
            "align_content": null,
            "align_items": null,
            "align_self": null,
            "border": null,
            "bottom": null,
            "display": null,
            "flex": null,
            "flex_flow": null,
            "grid_area": null,
            "grid_auto_columns": null,
            "grid_auto_flow": null,
            "grid_auto_rows": null,
            "grid_column": null,
            "grid_gap": null,
            "grid_row": null,
            "grid_template_areas": null,
            "grid_template_columns": null,
            "grid_template_rows": null,
            "height": null,
            "justify_content": null,
            "justify_items": null,
            "left": null,
            "margin": null,
            "max_height": null,
            "max_width": null,
            "min_height": null,
            "min_width": null,
            "object_fit": null,
            "object_position": null,
            "order": null,
            "overflow": null,
            "overflow_x": null,
            "overflow_y": null,
            "padding": null,
            "right": null,
            "top": null,
            "visibility": null,
            "width": null
          }
        },
        "c572868b519745cabb4f84a514877ae7": {
          "model_module": "@jupyter-widgets/controls",
          "model_name": "DescriptionStyleModel",
          "state": {
            "_model_module": "@jupyter-widgets/controls",
            "_model_module_version": "1.5.0",
            "_model_name": "DescriptionStyleModel",
            "_view_count": null,
            "_view_module": "@jupyter-widgets/base",
            "_view_module_version": "1.2.0",
            "_view_name": "StyleView",
            "description_width": ""
          }
        },
        "84769b3c0a3b42ec979233ad9b0b6b33": {
          "model_module": "@jupyter-widgets/base",
          "model_name": "LayoutModel",
          "state": {
            "_model_module": "@jupyter-widgets/base",
            "_model_module_version": "1.2.0",
            "_model_name": "LayoutModel",
            "_view_count": null,
            "_view_module": "@jupyter-widgets/base",
            "_view_module_version": "1.2.0",
            "_view_name": "LayoutView",
            "align_content": null,
            "align_items": null,
            "align_self": null,
            "border": null,
            "bottom": null,
            "display": null,
            "flex": null,
            "flex_flow": null,
            "grid_area": null,
            "grid_auto_columns": null,
            "grid_auto_flow": null,
            "grid_auto_rows": null,
            "grid_column": null,
            "grid_gap": null,
            "grid_row": null,
            "grid_template_areas": null,
            "grid_template_columns": null,
            "grid_template_rows": null,
            "height": null,
            "justify_content": null,
            "justify_items": null,
            "left": null,
            "margin": null,
            "max_height": null,
            "max_width": null,
            "min_height": null,
            "min_width": null,
            "object_fit": null,
            "object_position": null,
            "order": null,
            "overflow": null,
            "overflow_x": null,
            "overflow_y": null,
            "padding": null,
            "right": null,
            "top": null,
            "visibility": null,
            "width": null
          }
        },
        "95fe028e54d5405e8b4969ad2ed5d8b1": {
          "model_module": "@jupyter-widgets/controls",
          "model_name": "HBoxModel",
          "state": {
            "_dom_classes": [],
            "_model_module": "@jupyter-widgets/controls",
            "_model_module_version": "1.5.0",
            "_model_name": "HBoxModel",
            "_view_count": null,
            "_view_module": "@jupyter-widgets/controls",
            "_view_module_version": "1.5.0",
            "_view_name": "HBoxView",
            "box_style": "",
            "children": [
              "IPY_MODEL_25bdcc945fbf466f8c9f841c32af9b74",
              "IPY_MODEL_81541c8a674440be90814368c93dba7c"
            ],
            "layout": "IPY_MODEL_1553a3e8c9a34d26ad9425eb8f0482e8"
          }
        },
        "1553a3e8c9a34d26ad9425eb8f0482e8": {
          "model_module": "@jupyter-widgets/base",
          "model_name": "LayoutModel",
          "state": {
            "_model_module": "@jupyter-widgets/base",
            "_model_module_version": "1.2.0",
            "_model_name": "LayoutModel",
            "_view_count": null,
            "_view_module": "@jupyter-widgets/base",
            "_view_module_version": "1.2.0",
            "_view_name": "LayoutView",
            "align_content": null,
            "align_items": null,
            "align_self": null,
            "border": null,
            "bottom": null,
            "display": null,
            "flex": null,
            "flex_flow": null,
            "grid_area": null,
            "grid_auto_columns": null,
            "grid_auto_flow": null,
            "grid_auto_rows": null,
            "grid_column": null,
            "grid_gap": null,
            "grid_row": null,
            "grid_template_areas": null,
            "grid_template_columns": null,
            "grid_template_rows": null,
            "height": null,
            "justify_content": null,
            "justify_items": null,
            "left": null,
            "margin": null,
            "max_height": null,
            "max_width": null,
            "min_height": null,
            "min_width": null,
            "object_fit": null,
            "object_position": null,
            "order": null,
            "overflow": null,
            "overflow_x": null,
            "overflow_y": null,
            "padding": null,
            "right": null,
            "top": null,
            "visibility": null,
            "width": null
          }
        },
        "25bdcc945fbf466f8c9f841c32af9b74": {
          "model_module": "@jupyter-widgets/controls",
          "model_name": "FloatProgressModel",
          "state": {
            "_dom_classes": [],
            "_model_module": "@jupyter-widgets/controls",
            "_model_module_version": "1.5.0",
            "_model_name": "FloatProgressModel",
            "_view_count": null,
            "_view_module": "@jupyter-widgets/controls",
            "_view_module_version": "1.5.0",
            "_view_name": "ProgressView",
            "bar_style": "success",
            "description": "Dl Size...: 100%",
            "description_tooltip": null,
            "layout": "IPY_MODEL_55011e1e74f4461e8925f6a863e6ebe6",
            "max": 1,
            "min": 0,
            "orientation": "horizontal",
            "style": "IPY_MODEL_c768ac1619a34f318c43913dd44b8b75",
            "value": 1
          }
        },
        "81541c8a674440be90814368c93dba7c": {
          "model_module": "@jupyter-widgets/controls",
          "model_name": "HTMLModel",
          "state": {
            "_dom_classes": [],
            "_model_module": "@jupyter-widgets/controls",
            "_model_module_version": "1.5.0",
            "_model_name": "HTMLModel",
            "_view_count": null,
            "_view_module": "@jupyter-widgets/controls",
            "_view_module_version": "1.5.0",
            "_view_name": "HTMLView",
            "description": "",
            "description_tooltip": null,
            "layout": "IPY_MODEL_7ffe00b5baa84ac58dc8ed456aa54c5f",
            "placeholder": "​",
            "style": "IPY_MODEL_442d984b01d148a39d66f95263c75822",
            "value": " 29/29 [00:02&lt;00:00, 10.11 MiB/s]"
          }
        },
        "c768ac1619a34f318c43913dd44b8b75": {
          "model_module": "@jupyter-widgets/controls",
          "model_name": "ProgressStyleModel",
          "state": {
            "_model_module": "@jupyter-widgets/controls",
            "_model_module_version": "1.5.0",
            "_model_name": "ProgressStyleModel",
            "_view_count": null,
            "_view_module": "@jupyter-widgets/base",
            "_view_module_version": "1.2.0",
            "_view_name": "StyleView",
            "bar_color": null,
            "description_width": "initial"
          }
        },
        "55011e1e74f4461e8925f6a863e6ebe6": {
          "model_module": "@jupyter-widgets/base",
          "model_name": "LayoutModel",
          "state": {
            "_model_module": "@jupyter-widgets/base",
            "_model_module_version": "1.2.0",
            "_model_name": "LayoutModel",
            "_view_count": null,
            "_view_module": "@jupyter-widgets/base",
            "_view_module_version": "1.2.0",
            "_view_name": "LayoutView",
            "align_content": null,
            "align_items": null,
            "align_self": null,
            "border": null,
            "bottom": null,
            "display": null,
            "flex": null,
            "flex_flow": null,
            "grid_area": null,
            "grid_auto_columns": null,
            "grid_auto_flow": null,
            "grid_auto_rows": null,
            "grid_column": null,
            "grid_gap": null,
            "grid_row": null,
            "grid_template_areas": null,
            "grid_template_columns": null,
            "grid_template_rows": null,
            "height": null,
            "justify_content": null,
            "justify_items": null,
            "left": null,
            "margin": null,
            "max_height": null,
            "max_width": null,
            "min_height": null,
            "min_width": null,
            "object_fit": null,
            "object_position": null,
            "order": null,
            "overflow": null,
            "overflow_x": null,
            "overflow_y": null,
            "padding": null,
            "right": null,
            "top": null,
            "visibility": null,
            "width": null
          }
        },
        "442d984b01d148a39d66f95263c75822": {
          "model_module": "@jupyter-widgets/controls",
          "model_name": "DescriptionStyleModel",
          "state": {
            "_model_module": "@jupyter-widgets/controls",
            "_model_module_version": "1.5.0",
            "_model_name": "DescriptionStyleModel",
            "_view_count": null,
            "_view_module": "@jupyter-widgets/base",
            "_view_module_version": "1.2.0",
            "_view_name": "StyleView",
            "description_width": ""
          }
        },
        "7ffe00b5baa84ac58dc8ed456aa54c5f": {
          "model_module": "@jupyter-widgets/base",
          "model_name": "LayoutModel",
          "state": {
            "_model_module": "@jupyter-widgets/base",
            "_model_module_version": "1.2.0",
            "_model_name": "LayoutModel",
            "_view_count": null,
            "_view_module": "@jupyter-widgets/base",
            "_view_module_version": "1.2.0",
            "_view_name": "LayoutView",
            "align_content": null,
            "align_items": null,
            "align_self": null,
            "border": null,
            "bottom": null,
            "display": null,
            "flex": null,
            "flex_flow": null,
            "grid_area": null,
            "grid_auto_columns": null,
            "grid_auto_flow": null,
            "grid_auto_rows": null,
            "grid_column": null,
            "grid_gap": null,
            "grid_row": null,
            "grid_template_areas": null,
            "grid_template_columns": null,
            "grid_template_rows": null,
            "height": null,
            "justify_content": null,
            "justify_items": null,
            "left": null,
            "margin": null,
            "max_height": null,
            "max_width": null,
            "min_height": null,
            "min_width": null,
            "object_fit": null,
            "object_position": null,
            "order": null,
            "overflow": null,
            "overflow_x": null,
            "overflow_y": null,
            "padding": null,
            "right": null,
            "top": null,
            "visibility": null,
            "width": null
          }
        },
        "4479f297c11f424694ce8c25892d28c2": {
          "model_module": "@jupyter-widgets/controls",
          "model_name": "HBoxModel",
          "state": {
            "_dom_classes": [],
            "_model_module": "@jupyter-widgets/controls",
            "_model_module_version": "1.5.0",
            "_model_name": "HBoxModel",
            "_view_count": null,
            "_view_module": "@jupyter-widgets/controls",
            "_view_module_version": "1.5.0",
            "_view_name": "HBoxView",
            "box_style": "",
            "children": [
              "IPY_MODEL_c5ef221112084852bb677d0d0fb6c32e",
              "IPY_MODEL_e95309f19b094f5aae81c576e9621e8c"
            ],
            "layout": "IPY_MODEL_9a824a1cb18644e69540acae38e6dc8c"
          }
        },
        "9a824a1cb18644e69540acae38e6dc8c": {
          "model_module": "@jupyter-widgets/base",
          "model_name": "LayoutModel",
          "state": {
            "_model_module": "@jupyter-widgets/base",
            "_model_module_version": "1.2.0",
            "_model_name": "LayoutModel",
            "_view_count": null,
            "_view_module": "@jupyter-widgets/base",
            "_view_module_version": "1.2.0",
            "_view_name": "LayoutView",
            "align_content": null,
            "align_items": null,
            "align_self": null,
            "border": null,
            "bottom": null,
            "display": null,
            "flex": null,
            "flex_flow": null,
            "grid_area": null,
            "grid_auto_columns": null,
            "grid_auto_flow": null,
            "grid_auto_rows": null,
            "grid_column": null,
            "grid_gap": null,
            "grid_row": null,
            "grid_template_areas": null,
            "grid_template_columns": null,
            "grid_template_rows": null,
            "height": null,
            "justify_content": null,
            "justify_items": null,
            "left": null,
            "margin": null,
            "max_height": null,
            "max_width": null,
            "min_height": null,
            "min_width": null,
            "object_fit": null,
            "object_position": null,
            "order": null,
            "overflow": null,
            "overflow_x": null,
            "overflow_y": null,
            "padding": null,
            "right": null,
            "top": null,
            "visibility": null,
            "width": null
          }
        },
        "c5ef221112084852bb677d0d0fb6c32e": {
          "model_module": "@jupyter-widgets/controls",
          "model_name": "FloatProgressModel",
          "state": {
            "_dom_classes": [],
            "_model_module": "@jupyter-widgets/controls",
            "_model_module_version": "1.5.0",
            "_model_name": "FloatProgressModel",
            "_view_count": null,
            "_view_module": "@jupyter-widgets/controls",
            "_view_module_version": "1.5.0",
            "_view_name": "ProgressView",
            "bar_style": "success",
            "description": "Extraction completed...: 100%",
            "description_tooltip": null,
            "layout": "IPY_MODEL_2afe1fd9d8de4296a00271e45911f74c",
            "max": 1,
            "min": 0,
            "orientation": "horizontal",
            "style": "IPY_MODEL_cfb7137946fe48c4ac9d2e061bb2029b",
            "value": 1
          }
        },
        "e95309f19b094f5aae81c576e9621e8c": {
          "model_module": "@jupyter-widgets/controls",
          "model_name": "HTMLModel",
          "state": {
            "_dom_classes": [],
            "_model_module": "@jupyter-widgets/controls",
            "_model_module_version": "1.5.0",
            "_model_name": "HTMLModel",
            "_view_count": null,
            "_view_module": "@jupyter-widgets/controls",
            "_view_module_version": "1.5.0",
            "_view_name": "HTMLView",
            "description": "",
            "description_tooltip": null,
            "layout": "IPY_MODEL_5bb0c999704641f99cb2c2bd7c2da312",
            "placeholder": "​",
            "style": "IPY_MODEL_2cb0ca80f2f549fa9759b13a32e08f7d",
            "value": " 4/4 [00:02&lt;00:00,  1.41 file/s]"
          }
        },
        "cfb7137946fe48c4ac9d2e061bb2029b": {
          "model_module": "@jupyter-widgets/controls",
          "model_name": "ProgressStyleModel",
          "state": {
            "_model_module": "@jupyter-widgets/controls",
            "_model_module_version": "1.5.0",
            "_model_name": "ProgressStyleModel",
            "_view_count": null,
            "_view_module": "@jupyter-widgets/base",
            "_view_module_version": "1.2.0",
            "_view_name": "StyleView",
            "bar_color": null,
            "description_width": "initial"
          }
        },
        "2afe1fd9d8de4296a00271e45911f74c": {
          "model_module": "@jupyter-widgets/base",
          "model_name": "LayoutModel",
          "state": {
            "_model_module": "@jupyter-widgets/base",
            "_model_module_version": "1.2.0",
            "_model_name": "LayoutModel",
            "_view_count": null,
            "_view_module": "@jupyter-widgets/base",
            "_view_module_version": "1.2.0",
            "_view_name": "LayoutView",
            "align_content": null,
            "align_items": null,
            "align_self": null,
            "border": null,
            "bottom": null,
            "display": null,
            "flex": null,
            "flex_flow": null,
            "grid_area": null,
            "grid_auto_columns": null,
            "grid_auto_flow": null,
            "grid_auto_rows": null,
            "grid_column": null,
            "grid_gap": null,
            "grid_row": null,
            "grid_template_areas": null,
            "grid_template_columns": null,
            "grid_template_rows": null,
            "height": null,
            "justify_content": null,
            "justify_items": null,
            "left": null,
            "margin": null,
            "max_height": null,
            "max_width": null,
            "min_height": null,
            "min_width": null,
            "object_fit": null,
            "object_position": null,
            "order": null,
            "overflow": null,
            "overflow_x": null,
            "overflow_y": null,
            "padding": null,
            "right": null,
            "top": null,
            "visibility": null,
            "width": null
          }
        },
        "2cb0ca80f2f549fa9759b13a32e08f7d": {
          "model_module": "@jupyter-widgets/controls",
          "model_name": "DescriptionStyleModel",
          "state": {
            "_model_module": "@jupyter-widgets/controls",
            "_model_module_version": "1.5.0",
            "_model_name": "DescriptionStyleModel",
            "_view_count": null,
            "_view_module": "@jupyter-widgets/base",
            "_view_module_version": "1.2.0",
            "_view_name": "StyleView",
            "description_width": ""
          }
        },
        "5bb0c999704641f99cb2c2bd7c2da312": {
          "model_module": "@jupyter-widgets/base",
          "model_name": "LayoutModel",
          "state": {
            "_model_module": "@jupyter-widgets/base",
            "_model_module_version": "1.2.0",
            "_model_name": "LayoutModel",
            "_view_count": null,
            "_view_module": "@jupyter-widgets/base",
            "_view_module_version": "1.2.0",
            "_view_name": "LayoutView",
            "align_content": null,
            "align_items": null,
            "align_self": null,
            "border": null,
            "bottom": null,
            "display": null,
            "flex": null,
            "flex_flow": null,
            "grid_area": null,
            "grid_auto_columns": null,
            "grid_auto_flow": null,
            "grid_auto_rows": null,
            "grid_column": null,
            "grid_gap": null,
            "grid_row": null,
            "grid_template_areas": null,
            "grid_template_columns": null,
            "grid_template_rows": null,
            "height": null,
            "justify_content": null,
            "justify_items": null,
            "left": null,
            "margin": null,
            "max_height": null,
            "max_width": null,
            "min_height": null,
            "min_width": null,
            "object_fit": null,
            "object_position": null,
            "order": null,
            "overflow": null,
            "overflow_x": null,
            "overflow_y": null,
            "padding": null,
            "right": null,
            "top": null,
            "visibility": null,
            "width": null
          }
        },
        "527de50a0ceb400abacac25abf961f53": {
          "model_module": "@jupyter-widgets/controls",
          "model_name": "HBoxModel",
          "state": {
            "_dom_classes": [],
            "_model_module": "@jupyter-widgets/controls",
            "_model_module_version": "1.5.0",
            "_model_name": "HBoxModel",
            "_view_count": null,
            "_view_module": "@jupyter-widgets/controls",
            "_view_module_version": "1.5.0",
            "_view_name": "HBoxView",
            "box_style": "",
            "children": [
              "IPY_MODEL_98aea9c4952648c7a1ed78bcab3bb222",
              "IPY_MODEL_12de41d32b214325844563a14e58904f"
            ],
            "layout": "IPY_MODEL_cea997468a24447ab432fa61f4b2522f"
          }
        },
        "cea997468a24447ab432fa61f4b2522f": {
          "model_module": "@jupyter-widgets/base",
          "model_name": "LayoutModel",
          "state": {
            "_model_module": "@jupyter-widgets/base",
            "_model_module_version": "1.2.0",
            "_model_name": "LayoutModel",
            "_view_count": null,
            "_view_module": "@jupyter-widgets/base",
            "_view_module_version": "1.2.0",
            "_view_name": "LayoutView",
            "align_content": null,
            "align_items": null,
            "align_self": null,
            "border": null,
            "bottom": null,
            "display": null,
            "flex": null,
            "flex_flow": null,
            "grid_area": null,
            "grid_auto_columns": null,
            "grid_auto_flow": null,
            "grid_auto_rows": null,
            "grid_column": null,
            "grid_gap": null,
            "grid_row": null,
            "grid_template_areas": null,
            "grid_template_columns": null,
            "grid_template_rows": null,
            "height": null,
            "justify_content": null,
            "justify_items": null,
            "left": null,
            "margin": null,
            "max_height": null,
            "max_width": null,
            "min_height": null,
            "min_width": null,
            "object_fit": null,
            "object_position": null,
            "order": null,
            "overflow": null,
            "overflow_x": null,
            "overflow_y": null,
            "padding": null,
            "right": null,
            "top": null,
            "visibility": null,
            "width": null
          }
        },
        "98aea9c4952648c7a1ed78bcab3bb222": {
          "model_module": "@jupyter-widgets/controls",
          "model_name": "FloatProgressModel",
          "state": {
            "_dom_classes": [],
            "_model_module": "@jupyter-widgets/controls",
            "_model_module_version": "1.5.0",
            "_model_name": "FloatProgressModel",
            "_view_count": null,
            "_view_module": "@jupyter-widgets/controls",
            "_view_module_version": "1.5.0",
            "_view_name": "ProgressView",
            "bar_style": "info",
            "description": "",
            "description_tooltip": null,
            "layout": "IPY_MODEL_c40b6a5d88cd495387570dd518df8289",
            "max": 1,
            "min": 0,
            "orientation": "horizontal",
            "style": "IPY_MODEL_0cfc1c694cee46b48edc168aa0c5fe33",
            "value": 1
          }
        },
        "12de41d32b214325844563a14e58904f": {
          "model_module": "@jupyter-widgets/controls",
          "model_name": "HTMLModel",
          "state": {
            "_dom_classes": [],
            "_model_module": "@jupyter-widgets/controls",
            "_model_module_version": "1.5.0",
            "_model_name": "HTMLModel",
            "_view_count": null,
            "_view_module": "@jupyter-widgets/controls",
            "_view_module_version": "1.5.0",
            "_view_name": "HTMLView",
            "description": "",
            "description_tooltip": null,
            "layout": "IPY_MODEL_f98d8d113db645bcba63d4c18adf53af",
            "placeholder": "​",
            "style": "IPY_MODEL_827dd3735de84880bd9ae6e7d1be5839",
            "value": " 60000/0 [00:19&lt;00:00, 3064.81 examples/s]"
          }
        },
        "0cfc1c694cee46b48edc168aa0c5fe33": {
          "model_module": "@jupyter-widgets/controls",
          "model_name": "ProgressStyleModel",
          "state": {
            "_model_module": "@jupyter-widgets/controls",
            "_model_module_version": "1.5.0",
            "_model_name": "ProgressStyleModel",
            "_view_count": null,
            "_view_module": "@jupyter-widgets/base",
            "_view_module_version": "1.2.0",
            "_view_name": "StyleView",
            "bar_color": null,
            "description_width": "initial"
          }
        },
        "c40b6a5d88cd495387570dd518df8289": {
          "model_module": "@jupyter-widgets/base",
          "model_name": "LayoutModel",
          "state": {
            "_model_module": "@jupyter-widgets/base",
            "_model_module_version": "1.2.0",
            "_model_name": "LayoutModel",
            "_view_count": null,
            "_view_module": "@jupyter-widgets/base",
            "_view_module_version": "1.2.0",
            "_view_name": "LayoutView",
            "align_content": null,
            "align_items": null,
            "align_self": null,
            "border": null,
            "bottom": null,
            "display": null,
            "flex": null,
            "flex_flow": null,
            "grid_area": null,
            "grid_auto_columns": null,
            "grid_auto_flow": null,
            "grid_auto_rows": null,
            "grid_column": null,
            "grid_gap": null,
            "grid_row": null,
            "grid_template_areas": null,
            "grid_template_columns": null,
            "grid_template_rows": null,
            "height": null,
            "justify_content": null,
            "justify_items": null,
            "left": null,
            "margin": null,
            "max_height": null,
            "max_width": null,
            "min_height": null,
            "min_width": null,
            "object_fit": null,
            "object_position": null,
            "order": null,
            "overflow": null,
            "overflow_x": null,
            "overflow_y": null,
            "padding": null,
            "right": null,
            "top": null,
            "visibility": null,
            "width": null
          }
        },
        "827dd3735de84880bd9ae6e7d1be5839": {
          "model_module": "@jupyter-widgets/controls",
          "model_name": "DescriptionStyleModel",
          "state": {
            "_model_module": "@jupyter-widgets/controls",
            "_model_module_version": "1.5.0",
            "_model_name": "DescriptionStyleModel",
            "_view_count": null,
            "_view_module": "@jupyter-widgets/base",
            "_view_module_version": "1.2.0",
            "_view_name": "StyleView",
            "description_width": ""
          }
        },
        "f98d8d113db645bcba63d4c18adf53af": {
          "model_module": "@jupyter-widgets/base",
          "model_name": "LayoutModel",
          "state": {
            "_model_module": "@jupyter-widgets/base",
            "_model_module_version": "1.2.0",
            "_model_name": "LayoutModel",
            "_view_count": null,
            "_view_module": "@jupyter-widgets/base",
            "_view_module_version": "1.2.0",
            "_view_name": "LayoutView",
            "align_content": null,
            "align_items": null,
            "align_self": null,
            "border": null,
            "bottom": null,
            "display": null,
            "flex": null,
            "flex_flow": null,
            "grid_area": null,
            "grid_auto_columns": null,
            "grid_auto_flow": null,
            "grid_auto_rows": null,
            "grid_column": null,
            "grid_gap": null,
            "grid_row": null,
            "grid_template_areas": null,
            "grid_template_columns": null,
            "grid_template_rows": null,
            "height": null,
            "justify_content": null,
            "justify_items": null,
            "left": null,
            "margin": null,
            "max_height": null,
            "max_width": null,
            "min_height": null,
            "min_width": null,
            "object_fit": null,
            "object_position": null,
            "order": null,
            "overflow": null,
            "overflow_x": null,
            "overflow_y": null,
            "padding": null,
            "right": null,
            "top": null,
            "visibility": null,
            "width": null
          }
        },
        "55194edc4fac48109ff8cecfef9448d1": {
          "model_module": "@jupyter-widgets/controls",
          "model_name": "HBoxModel",
          "state": {
            "_dom_classes": [],
            "_model_module": "@jupyter-widgets/controls",
            "_model_module_version": "1.5.0",
            "_model_name": "HBoxModel",
            "_view_count": null,
            "_view_module": "@jupyter-widgets/controls",
            "_view_module_version": "1.5.0",
            "_view_name": "HBoxView",
            "box_style": "",
            "children": [
              "IPY_MODEL_95f1ba860ee14fc39085f5ea1857dbab",
              "IPY_MODEL_8ba9df6a1303485081579c4a477c2e8f"
            ],
            "layout": "IPY_MODEL_8a35566fb68e4bf0aa3814bab35635a6"
          }
        },
        "8a35566fb68e4bf0aa3814bab35635a6": {
          "model_module": "@jupyter-widgets/base",
          "model_name": "LayoutModel",
          "state": {
            "_model_module": "@jupyter-widgets/base",
            "_model_module_version": "1.2.0",
            "_model_name": "LayoutModel",
            "_view_count": null,
            "_view_module": "@jupyter-widgets/base",
            "_view_module_version": "1.2.0",
            "_view_name": "LayoutView",
            "align_content": null,
            "align_items": null,
            "align_self": null,
            "border": null,
            "bottom": null,
            "display": null,
            "flex": null,
            "flex_flow": null,
            "grid_area": null,
            "grid_auto_columns": null,
            "grid_auto_flow": null,
            "grid_auto_rows": null,
            "grid_column": null,
            "grid_gap": null,
            "grid_row": null,
            "grid_template_areas": null,
            "grid_template_columns": null,
            "grid_template_rows": null,
            "height": null,
            "justify_content": null,
            "justify_items": null,
            "left": null,
            "margin": null,
            "max_height": null,
            "max_width": null,
            "min_height": null,
            "min_width": null,
            "object_fit": null,
            "object_position": null,
            "order": null,
            "overflow": null,
            "overflow_x": null,
            "overflow_y": null,
            "padding": null,
            "right": null,
            "top": null,
            "visibility": null,
            "width": null
          }
        },
        "95f1ba860ee14fc39085f5ea1857dbab": {
          "model_module": "@jupyter-widgets/controls",
          "model_name": "FloatProgressModel",
          "state": {
            "_dom_classes": [],
            "_model_module": "@jupyter-widgets/controls",
            "_model_module_version": "1.5.0",
            "_model_name": "FloatProgressModel",
            "_view_count": null,
            "_view_module": "@jupyter-widgets/controls",
            "_view_module_version": "1.5.0",
            "_view_name": "ProgressView",
            "bar_style": "danger",
            "description": " 96%",
            "description_tooltip": null,
            "layout": "IPY_MODEL_6f2dc61b27d54ee8a3307e72bdd79909",
            "max": 60000,
            "min": 0,
            "orientation": "horizontal",
            "style": "IPY_MODEL_eb50268850094485ad77e396fe41bc00",
            "value": 57772
          }
        },
        "8ba9df6a1303485081579c4a477c2e8f": {
          "model_module": "@jupyter-widgets/controls",
          "model_name": "HTMLModel",
          "state": {
            "_dom_classes": [],
            "_model_module": "@jupyter-widgets/controls",
            "_model_module_version": "1.5.0",
            "_model_name": "HTMLModel",
            "_view_count": null,
            "_view_module": "@jupyter-widgets/controls",
            "_view_module_version": "1.5.0",
            "_view_name": "HTMLView",
            "description": "",
            "description_tooltip": null,
            "layout": "IPY_MODEL_0893d569bd8c43479ebda726e2b51e10",
            "placeholder": "​",
            "style": "IPY_MODEL_18530227d3f94355a9d985862647cfb5",
            "value": " 57772/60000 [00:00&lt;00:00, 186542.05 examples/s]"
          }
        },
        "eb50268850094485ad77e396fe41bc00": {
          "model_module": "@jupyter-widgets/controls",
          "model_name": "ProgressStyleModel",
          "state": {
            "_model_module": "@jupyter-widgets/controls",
            "_model_module_version": "1.5.0",
            "_model_name": "ProgressStyleModel",
            "_view_count": null,
            "_view_module": "@jupyter-widgets/base",
            "_view_module_version": "1.2.0",
            "_view_name": "StyleView",
            "bar_color": null,
            "description_width": "initial"
          }
        },
        "6f2dc61b27d54ee8a3307e72bdd79909": {
          "model_module": "@jupyter-widgets/base",
          "model_name": "LayoutModel",
          "state": {
            "_model_module": "@jupyter-widgets/base",
            "_model_module_version": "1.2.0",
            "_model_name": "LayoutModel",
            "_view_count": null,
            "_view_module": "@jupyter-widgets/base",
            "_view_module_version": "1.2.0",
            "_view_name": "LayoutView",
            "align_content": null,
            "align_items": null,
            "align_self": null,
            "border": null,
            "bottom": null,
            "display": null,
            "flex": null,
            "flex_flow": null,
            "grid_area": null,
            "grid_auto_columns": null,
            "grid_auto_flow": null,
            "grid_auto_rows": null,
            "grid_column": null,
            "grid_gap": null,
            "grid_row": null,
            "grid_template_areas": null,
            "grid_template_columns": null,
            "grid_template_rows": null,
            "height": null,
            "justify_content": null,
            "justify_items": null,
            "left": null,
            "margin": null,
            "max_height": null,
            "max_width": null,
            "min_height": null,
            "min_width": null,
            "object_fit": null,
            "object_position": null,
            "order": null,
            "overflow": null,
            "overflow_x": null,
            "overflow_y": null,
            "padding": null,
            "right": null,
            "top": null,
            "visibility": null,
            "width": null
          }
        },
        "18530227d3f94355a9d985862647cfb5": {
          "model_module": "@jupyter-widgets/controls",
          "model_name": "DescriptionStyleModel",
          "state": {
            "_model_module": "@jupyter-widgets/controls",
            "_model_module_version": "1.5.0",
            "_model_name": "DescriptionStyleModel",
            "_view_count": null,
            "_view_module": "@jupyter-widgets/base",
            "_view_module_version": "1.2.0",
            "_view_name": "StyleView",
            "description_width": ""
          }
        },
        "0893d569bd8c43479ebda726e2b51e10": {
          "model_module": "@jupyter-widgets/base",
          "model_name": "LayoutModel",
          "state": {
            "_model_module": "@jupyter-widgets/base",
            "_model_module_version": "1.2.0",
            "_model_name": "LayoutModel",
            "_view_count": null,
            "_view_module": "@jupyter-widgets/base",
            "_view_module_version": "1.2.0",
            "_view_name": "LayoutView",
            "align_content": null,
            "align_items": null,
            "align_self": null,
            "border": null,
            "bottom": null,
            "display": null,
            "flex": null,
            "flex_flow": null,
            "grid_area": null,
            "grid_auto_columns": null,
            "grid_auto_flow": null,
            "grid_auto_rows": null,
            "grid_column": null,
            "grid_gap": null,
            "grid_row": null,
            "grid_template_areas": null,
            "grid_template_columns": null,
            "grid_template_rows": null,
            "height": null,
            "justify_content": null,
            "justify_items": null,
            "left": null,
            "margin": null,
            "max_height": null,
            "max_width": null,
            "min_height": null,
            "min_width": null,
            "object_fit": null,
            "object_position": null,
            "order": null,
            "overflow": null,
            "overflow_x": null,
            "overflow_y": null,
            "padding": null,
            "right": null,
            "top": null,
            "visibility": null,
            "width": null
          }
        },
        "9228b668aec24c5cb5101b3d6077f0c0": {
          "model_module": "@jupyter-widgets/controls",
          "model_name": "HBoxModel",
          "state": {
            "_dom_classes": [],
            "_model_module": "@jupyter-widgets/controls",
            "_model_module_version": "1.5.0",
            "_model_name": "HBoxModel",
            "_view_count": null,
            "_view_module": "@jupyter-widgets/controls",
            "_view_module_version": "1.5.0",
            "_view_name": "HBoxView",
            "box_style": "",
            "children": [
              "IPY_MODEL_d17151b71a2747b8990349e8fa9895ff",
              "IPY_MODEL_b4e56ed741e644508536830a16296524"
            ],
            "layout": "IPY_MODEL_75d59b25d5714149aebb51142887d8b5"
          }
        },
        "75d59b25d5714149aebb51142887d8b5": {
          "model_module": "@jupyter-widgets/base",
          "model_name": "LayoutModel",
          "state": {
            "_model_module": "@jupyter-widgets/base",
            "_model_module_version": "1.2.0",
            "_model_name": "LayoutModel",
            "_view_count": null,
            "_view_module": "@jupyter-widgets/base",
            "_view_module_version": "1.2.0",
            "_view_name": "LayoutView",
            "align_content": null,
            "align_items": null,
            "align_self": null,
            "border": null,
            "bottom": null,
            "display": null,
            "flex": null,
            "flex_flow": null,
            "grid_area": null,
            "grid_auto_columns": null,
            "grid_auto_flow": null,
            "grid_auto_rows": null,
            "grid_column": null,
            "grid_gap": null,
            "grid_row": null,
            "grid_template_areas": null,
            "grid_template_columns": null,
            "grid_template_rows": null,
            "height": null,
            "justify_content": null,
            "justify_items": null,
            "left": null,
            "margin": null,
            "max_height": null,
            "max_width": null,
            "min_height": null,
            "min_width": null,
            "object_fit": null,
            "object_position": null,
            "order": null,
            "overflow": null,
            "overflow_x": null,
            "overflow_y": null,
            "padding": null,
            "right": null,
            "top": null,
            "visibility": null,
            "width": null
          }
        },
        "d17151b71a2747b8990349e8fa9895ff": {
          "model_module": "@jupyter-widgets/controls",
          "model_name": "FloatProgressModel",
          "state": {
            "_dom_classes": [],
            "_model_module": "@jupyter-widgets/controls",
            "_model_module_version": "1.5.0",
            "_model_name": "FloatProgressModel",
            "_view_count": null,
            "_view_module": "@jupyter-widgets/controls",
            "_view_module_version": "1.5.0",
            "_view_name": "ProgressView",
            "bar_style": "info",
            "description": "",
            "description_tooltip": null,
            "layout": "IPY_MODEL_489ffb4df1ea4bff8e26444d6350cce8",
            "max": 1,
            "min": 0,
            "orientation": "horizontal",
            "style": "IPY_MODEL_999993ae41f34a0a8b54fc23231daf5f",
            "value": 1
          }
        },
        "b4e56ed741e644508536830a16296524": {
          "model_module": "@jupyter-widgets/controls",
          "model_name": "HTMLModel",
          "state": {
            "_dom_classes": [],
            "_model_module": "@jupyter-widgets/controls",
            "_model_module_version": "1.5.0",
            "_model_name": "HTMLModel",
            "_view_count": null,
            "_view_module": "@jupyter-widgets/controls",
            "_view_module_version": "1.5.0",
            "_view_name": "HTMLView",
            "description": "",
            "description_tooltip": null,
            "layout": "IPY_MODEL_7f07202c41144121940ed6d3185b383c",
            "placeholder": "​",
            "style": "IPY_MODEL_d7716c89bef14e18a4d0f098a7482af1",
            "value": " 10000/0 [00:03&lt;00:00, 3012.42 examples/s]"
          }
        },
        "999993ae41f34a0a8b54fc23231daf5f": {
          "model_module": "@jupyter-widgets/controls",
          "model_name": "ProgressStyleModel",
          "state": {
            "_model_module": "@jupyter-widgets/controls",
            "_model_module_version": "1.5.0",
            "_model_name": "ProgressStyleModel",
            "_view_count": null,
            "_view_module": "@jupyter-widgets/base",
            "_view_module_version": "1.2.0",
            "_view_name": "StyleView",
            "bar_color": null,
            "description_width": "initial"
          }
        },
        "489ffb4df1ea4bff8e26444d6350cce8": {
          "model_module": "@jupyter-widgets/base",
          "model_name": "LayoutModel",
          "state": {
            "_model_module": "@jupyter-widgets/base",
            "_model_module_version": "1.2.0",
            "_model_name": "LayoutModel",
            "_view_count": null,
            "_view_module": "@jupyter-widgets/base",
            "_view_module_version": "1.2.0",
            "_view_name": "LayoutView",
            "align_content": null,
            "align_items": null,
            "align_self": null,
            "border": null,
            "bottom": null,
            "display": null,
            "flex": null,
            "flex_flow": null,
            "grid_area": null,
            "grid_auto_columns": null,
            "grid_auto_flow": null,
            "grid_auto_rows": null,
            "grid_column": null,
            "grid_gap": null,
            "grid_row": null,
            "grid_template_areas": null,
            "grid_template_columns": null,
            "grid_template_rows": null,
            "height": null,
            "justify_content": null,
            "justify_items": null,
            "left": null,
            "margin": null,
            "max_height": null,
            "max_width": null,
            "min_height": null,
            "min_width": null,
            "object_fit": null,
            "object_position": null,
            "order": null,
            "overflow": null,
            "overflow_x": null,
            "overflow_y": null,
            "padding": null,
            "right": null,
            "top": null,
            "visibility": null,
            "width": null
          }
        },
        "d7716c89bef14e18a4d0f098a7482af1": {
          "model_module": "@jupyter-widgets/controls",
          "model_name": "DescriptionStyleModel",
          "state": {
            "_model_module": "@jupyter-widgets/controls",
            "_model_module_version": "1.5.0",
            "_model_name": "DescriptionStyleModel",
            "_view_count": null,
            "_view_module": "@jupyter-widgets/base",
            "_view_module_version": "1.2.0",
            "_view_name": "StyleView",
            "description_width": ""
          }
        },
        "7f07202c41144121940ed6d3185b383c": {
          "model_module": "@jupyter-widgets/base",
          "model_name": "LayoutModel",
          "state": {
            "_model_module": "@jupyter-widgets/base",
            "_model_module_version": "1.2.0",
            "_model_name": "LayoutModel",
            "_view_count": null,
            "_view_module": "@jupyter-widgets/base",
            "_view_module_version": "1.2.0",
            "_view_name": "LayoutView",
            "align_content": null,
            "align_items": null,
            "align_self": null,
            "border": null,
            "bottom": null,
            "display": null,
            "flex": null,
            "flex_flow": null,
            "grid_area": null,
            "grid_auto_columns": null,
            "grid_auto_flow": null,
            "grid_auto_rows": null,
            "grid_column": null,
            "grid_gap": null,
            "grid_row": null,
            "grid_template_areas": null,
            "grid_template_columns": null,
            "grid_template_rows": null,
            "height": null,
            "justify_content": null,
            "justify_items": null,
            "left": null,
            "margin": null,
            "max_height": null,
            "max_width": null,
            "min_height": null,
            "min_width": null,
            "object_fit": null,
            "object_position": null,
            "order": null,
            "overflow": null,
            "overflow_x": null,
            "overflow_y": null,
            "padding": null,
            "right": null,
            "top": null,
            "visibility": null,
            "width": null
          }
        },
        "064d2b1c1d114e08b7af3d5ff50902d7": {
          "model_module": "@jupyter-widgets/controls",
          "model_name": "HBoxModel",
          "state": {
            "_dom_classes": [],
            "_model_module": "@jupyter-widgets/controls",
            "_model_module_version": "1.5.0",
            "_model_name": "HBoxModel",
            "_view_count": null,
            "_view_module": "@jupyter-widgets/controls",
            "_view_module_version": "1.5.0",
            "_view_name": "HBoxView",
            "box_style": "",
            "children": [
              "IPY_MODEL_5a32bda68b5f4f729050948300d5a601",
              "IPY_MODEL_db20c67d86334376bf60e0bdd5ad1d46"
            ],
            "layout": "IPY_MODEL_3a02becc7d9745749c6245d0e26c093b"
          }
        },
        "3a02becc7d9745749c6245d0e26c093b": {
          "model_module": "@jupyter-widgets/base",
          "model_name": "LayoutModel",
          "state": {
            "_model_module": "@jupyter-widgets/base",
            "_model_module_version": "1.2.0",
            "_model_name": "LayoutModel",
            "_view_count": null,
            "_view_module": "@jupyter-widgets/base",
            "_view_module_version": "1.2.0",
            "_view_name": "LayoutView",
            "align_content": null,
            "align_items": null,
            "align_self": null,
            "border": null,
            "bottom": null,
            "display": null,
            "flex": null,
            "flex_flow": null,
            "grid_area": null,
            "grid_auto_columns": null,
            "grid_auto_flow": null,
            "grid_auto_rows": null,
            "grid_column": null,
            "grid_gap": null,
            "grid_row": null,
            "grid_template_areas": null,
            "grid_template_columns": null,
            "grid_template_rows": null,
            "height": null,
            "justify_content": null,
            "justify_items": null,
            "left": null,
            "margin": null,
            "max_height": null,
            "max_width": null,
            "min_height": null,
            "min_width": null,
            "object_fit": null,
            "object_position": null,
            "order": null,
            "overflow": null,
            "overflow_x": null,
            "overflow_y": null,
            "padding": null,
            "right": null,
            "top": null,
            "visibility": null,
            "width": null
          }
        },
        "5a32bda68b5f4f729050948300d5a601": {
          "model_module": "@jupyter-widgets/controls",
          "model_name": "FloatProgressModel",
          "state": {
            "_dom_classes": [],
            "_model_module": "@jupyter-widgets/controls",
            "_model_module_version": "1.5.0",
            "_model_name": "FloatProgressModel",
            "_view_count": null,
            "_view_module": "@jupyter-widgets/controls",
            "_view_module_version": "1.5.0",
            "_view_name": "ProgressView",
            "bar_style": "danger",
            "description": "  0%",
            "description_tooltip": null,
            "layout": "IPY_MODEL_44fa034a2919462cac196dd79411f765",
            "max": 10000,
            "min": 0,
            "orientation": "horizontal",
            "style": "IPY_MODEL_68be69f4901a45ffa99a2d9bed400162",
            "value": 0
          }
        },
        "db20c67d86334376bf60e0bdd5ad1d46": {
          "model_module": "@jupyter-widgets/controls",
          "model_name": "HTMLModel",
          "state": {
            "_dom_classes": [],
            "_model_module": "@jupyter-widgets/controls",
            "_model_module_version": "1.5.0",
            "_model_name": "HTMLModel",
            "_view_count": null,
            "_view_module": "@jupyter-widgets/controls",
            "_view_module_version": "1.5.0",
            "_view_name": "HTMLView",
            "description": "",
            "description_tooltip": null,
            "layout": "IPY_MODEL_3aa33537edd543d28f3b9a989049f97d",
            "placeholder": "​",
            "style": "IPY_MODEL_36874de9dc144a4594fb1431392a07f4",
            "value": " 0/10000 [00:00&lt;?, ? examples/s]"
          }
        },
        "68be69f4901a45ffa99a2d9bed400162": {
          "model_module": "@jupyter-widgets/controls",
          "model_name": "ProgressStyleModel",
          "state": {
            "_model_module": "@jupyter-widgets/controls",
            "_model_module_version": "1.5.0",
            "_model_name": "ProgressStyleModel",
            "_view_count": null,
            "_view_module": "@jupyter-widgets/base",
            "_view_module_version": "1.2.0",
            "_view_name": "StyleView",
            "bar_color": null,
            "description_width": "initial"
          }
        },
        "44fa034a2919462cac196dd79411f765": {
          "model_module": "@jupyter-widgets/base",
          "model_name": "LayoutModel",
          "state": {
            "_model_module": "@jupyter-widgets/base",
            "_model_module_version": "1.2.0",
            "_model_name": "LayoutModel",
            "_view_count": null,
            "_view_module": "@jupyter-widgets/base",
            "_view_module_version": "1.2.0",
            "_view_name": "LayoutView",
            "align_content": null,
            "align_items": null,
            "align_self": null,
            "border": null,
            "bottom": null,
            "display": null,
            "flex": null,
            "flex_flow": null,
            "grid_area": null,
            "grid_auto_columns": null,
            "grid_auto_flow": null,
            "grid_auto_rows": null,
            "grid_column": null,
            "grid_gap": null,
            "grid_row": null,
            "grid_template_areas": null,
            "grid_template_columns": null,
            "grid_template_rows": null,
            "height": null,
            "justify_content": null,
            "justify_items": null,
            "left": null,
            "margin": null,
            "max_height": null,
            "max_width": null,
            "min_height": null,
            "min_width": null,
            "object_fit": null,
            "object_position": null,
            "order": null,
            "overflow": null,
            "overflow_x": null,
            "overflow_y": null,
            "padding": null,
            "right": null,
            "top": null,
            "visibility": null,
            "width": null
          }
        },
        "36874de9dc144a4594fb1431392a07f4": {
          "model_module": "@jupyter-widgets/controls",
          "model_name": "DescriptionStyleModel",
          "state": {
            "_model_module": "@jupyter-widgets/controls",
            "_model_module_version": "1.5.0",
            "_model_name": "DescriptionStyleModel",
            "_view_count": null,
            "_view_module": "@jupyter-widgets/base",
            "_view_module_version": "1.2.0",
            "_view_name": "StyleView",
            "description_width": ""
          }
        },
        "3aa33537edd543d28f3b9a989049f97d": {
          "model_module": "@jupyter-widgets/base",
          "model_name": "LayoutModel",
          "state": {
            "_model_module": "@jupyter-widgets/base",
            "_model_module_version": "1.2.0",
            "_model_name": "LayoutModel",
            "_view_count": null,
            "_view_module": "@jupyter-widgets/base",
            "_view_module_version": "1.2.0",
            "_view_name": "LayoutView",
            "align_content": null,
            "align_items": null,
            "align_self": null,
            "border": null,
            "bottom": null,
            "display": null,
            "flex": null,
            "flex_flow": null,
            "grid_area": null,
            "grid_auto_columns": null,
            "grid_auto_flow": null,
            "grid_auto_rows": null,
            "grid_column": null,
            "grid_gap": null,
            "grid_row": null,
            "grid_template_areas": null,
            "grid_template_columns": null,
            "grid_template_rows": null,
            "height": null,
            "justify_content": null,
            "justify_items": null,
            "left": null,
            "margin": null,
            "max_height": null,
            "max_width": null,
            "min_height": null,
            "min_width": null,
            "object_fit": null,
            "object_position": null,
            "order": null,
            "overflow": null,
            "overflow_x": null,
            "overflow_y": null,
            "padding": null,
            "right": null,
            "top": null,
            "visibility": null,
            "width": null
          }
        }
      }
    }
  },
  "cells": [
    {
      "cell_type": "code",
      "metadata": {
        "id": "IL6r7R6StzVY",
        "outputId": "eb2550d6-e87f-4299-d8c1-5757f51e8015",
        "colab": {
          "base_uri": "https://localhost:8080/",
          "height": 34
        }
      },
      "source": [
        "import tensorflow as tf\n",
        "from tensorflow import keras\n",
        "import matplotlib.pyplot as plt\n",
        "import numpy as np\n",
        "import tensorflow_datasets as tfds\n",
        "print(tf.__version__)"
      ],
      "execution_count": null,
      "outputs": [
        {
          "output_type": "stream",
          "text": [
            "2.3.0\n"
          ],
          "name": "stdout"
        }
      ]
    },
    {
      "cell_type": "code",
      "metadata": {
        "id": "SLocOQ3YipjT"
      },
      "source": [
        "from keras import callbacks\n",
        "from keras.callbacks import LearningRateScheduler\n",
        "from keras.utils import to_categorical"
      ],
      "execution_count": null,
      "outputs": []
    },
    {
      "cell_type": "code",
      "metadata": {
        "id": "Bkc9CiPeuUqR",
        "outputId": "4e589fcf-c6b5-4e8d-98fa-d341fde5f083",
        "colab": {
          "base_uri": "https://localhost:8080/",
          "height": 153
        }
      },
      "source": [
        "fashion_minst = keras.datasets.fashion_mnist\n",
        "(train_images,train_labels),  (test_images,test_labels) = fashion_minst.load_data()"
      ],
      "execution_count": null,
      "outputs": [
        {
          "output_type": "stream",
          "text": [
            "Downloading data from https://storage.googleapis.com/tensorflow/tf-keras-datasets/train-labels-idx1-ubyte.gz\n",
            "32768/29515 [=================================] - 0s 0us/step\n",
            "Downloading data from https://storage.googleapis.com/tensorflow/tf-keras-datasets/train-images-idx3-ubyte.gz\n",
            "26427392/26421880 [==============================] - 0s 0us/step\n",
            "Downloading data from https://storage.googleapis.com/tensorflow/tf-keras-datasets/t10k-labels-idx1-ubyte.gz\n",
            "8192/5148 [===============================================] - 0s 0us/step\n",
            "Downloading data from https://storage.googleapis.com/tensorflow/tf-keras-datasets/t10k-images-idx3-ubyte.gz\n",
            "4423680/4422102 [==============================] - 0s 0us/step\n"
          ],
          "name": "stdout"
        }
      ]
    },
    {
      "cell_type": "code",
      "metadata": {
        "id": "hSd8Ww6VUADC",
        "outputId": "33256533-55e5-426d-9d03-da53c09a8d99",
        "colab": {
          "base_uri": "https://localhost:8080/",
          "height": 367,
          "referenced_widgets": [
            "ab8396ca79fb4a419a32e11d0029d904",
            "a46eef775c404ae79a5d93a0237a46e8",
            "4f87152a99f648c78f0c42f125e06839",
            "eac4b95d90234661a692e64202ffcd80",
            "7b5c30ac17b94c18bddc208cdd9c50bb",
            "69399f7826a04d6b9c7adef8dec7178d",
            "c572868b519745cabb4f84a514877ae7",
            "84769b3c0a3b42ec979233ad9b0b6b33",
            "95fe028e54d5405e8b4969ad2ed5d8b1",
            "1553a3e8c9a34d26ad9425eb8f0482e8",
            "25bdcc945fbf466f8c9f841c32af9b74",
            "81541c8a674440be90814368c93dba7c",
            "c768ac1619a34f318c43913dd44b8b75",
            "55011e1e74f4461e8925f6a863e6ebe6",
            "442d984b01d148a39d66f95263c75822",
            "7ffe00b5baa84ac58dc8ed456aa54c5f",
            "4479f297c11f424694ce8c25892d28c2",
            "9a824a1cb18644e69540acae38e6dc8c",
            "c5ef221112084852bb677d0d0fb6c32e",
            "e95309f19b094f5aae81c576e9621e8c",
            "cfb7137946fe48c4ac9d2e061bb2029b",
            "2afe1fd9d8de4296a00271e45911f74c",
            "2cb0ca80f2f549fa9759b13a32e08f7d",
            "5bb0c999704641f99cb2c2bd7c2da312",
            "527de50a0ceb400abacac25abf961f53",
            "cea997468a24447ab432fa61f4b2522f",
            "98aea9c4952648c7a1ed78bcab3bb222",
            "12de41d32b214325844563a14e58904f",
            "0cfc1c694cee46b48edc168aa0c5fe33",
            "c40b6a5d88cd495387570dd518df8289",
            "827dd3735de84880bd9ae6e7d1be5839",
            "f98d8d113db645bcba63d4c18adf53af",
            "55194edc4fac48109ff8cecfef9448d1",
            "8a35566fb68e4bf0aa3814bab35635a6",
            "95f1ba860ee14fc39085f5ea1857dbab",
            "8ba9df6a1303485081579c4a477c2e8f",
            "eb50268850094485ad77e396fe41bc00",
            "6f2dc61b27d54ee8a3307e72bdd79909",
            "18530227d3f94355a9d985862647cfb5",
            "0893d569bd8c43479ebda726e2b51e10",
            "9228b668aec24c5cb5101b3d6077f0c0",
            "75d59b25d5714149aebb51142887d8b5",
            "d17151b71a2747b8990349e8fa9895ff",
            "b4e56ed741e644508536830a16296524",
            "999993ae41f34a0a8b54fc23231daf5f",
            "489ffb4df1ea4bff8e26444d6350cce8",
            "d7716c89bef14e18a4d0f098a7482af1",
            "7f07202c41144121940ed6d3185b383c",
            "064d2b1c1d114e08b7af3d5ff50902d7",
            "3a02becc7d9745749c6245d0e26c093b",
            "5a32bda68b5f4f729050948300d5a601",
            "db20c67d86334376bf60e0bdd5ad1d46",
            "68be69f4901a45ffa99a2d9bed400162",
            "44fa034a2919462cac196dd79411f765",
            "36874de9dc144a4594fb1431392a07f4",
            "3aa33537edd543d28f3b9a989049f97d"
          ]
        }
      },
      "source": [
        "TRAIN_DS_SIZE = 40000\n",
        "VALID_DS_SIZE = 10000\n",
        "TEST_DS_SIZE = 10000\n",
        "\n",
        "(fashion_mnist_train, fashion_mnist_valid, fashion_mnist_test), info = tfds.load('fashion_mnist', \n",
        "                                                               split=[f'train[:{TRAIN_DS_SIZE}]', \n",
        "                                                                      f'train[{TRAIN_DS_SIZE}:{TRAIN_DS_SIZE + VALID_DS_SIZE}]', \n",
        "                                                                      f'train[{TRAIN_DS_SIZE + VALID_DS_SIZE}:{TRAIN_DS_SIZE + VALID_DS_SIZE + TEST_DS_SIZE}]'],\n",
        "                                                               with_info=True,\n",
        "                                                               as_supervised=True)"
      ],
      "execution_count": null,
      "outputs": [
        {
          "output_type": "stream",
          "text": [
            "\u001b[1mDownloading and preparing dataset fashion_mnist/3.0.0 (download: 29.45 MiB, generated: Unknown size, total: 29.45 MiB) to /root/tensorflow_datasets/fashion_mnist/3.0.0...\u001b[0m\n"
          ],
          "name": "stdout"
        },
        {
          "output_type": "display_data",
          "data": {
            "text/plain": [
              "HBox(children=(FloatProgress(value=1.0, bar_style='info', description='Dl Completed...', max=1.0, style=Progre…"
            ]
          },
          "metadata": {
            "tags": []
          }
        },
        {
          "output_type": "display_data",
          "data": {
            "text/plain": [
              "HBox(children=(FloatProgress(value=1.0, bar_style='info', description='Dl Size...', max=1.0, style=ProgressSty…"
            ]
          },
          "metadata": {
            "tags": []
          }
        },
        {
          "output_type": "display_data",
          "data": {
            "text/plain": [
              "HBox(children=(FloatProgress(value=1.0, bar_style='info', description='Extraction completed...', max=1.0, styl…"
            ]
          },
          "metadata": {
            "tags": []
          }
        },
        {
          "output_type": "stream",
          "text": [
            "\n",
            "\n",
            "\n",
            "\n",
            "\n",
            "\n"
          ],
          "name": "stdout"
        },
        {
          "output_type": "display_data",
          "data": {
            "text/plain": [
              "HBox(children=(FloatProgress(value=1.0, bar_style='info', max=1.0), HTML(value='')))"
            ]
          },
          "metadata": {
            "tags": []
          }
        },
        {
          "output_type": "stream",
          "text": [
            "\rShuffling and writing examples to /root/tensorflow_datasets/fashion_mnist/3.0.0.incompleteCPD26G/fashion_mnist-train.tfrecord\n"
          ],
          "name": "stdout"
        },
        {
          "output_type": "display_data",
          "data": {
            "text/plain": [
              "HBox(children=(FloatProgress(value=0.0, max=60000.0), HTML(value='')))"
            ]
          },
          "metadata": {
            "tags": []
          }
        },
        {
          "output_type": "stream",
          "text": [
            "\r"
          ],
          "name": "stdout"
        },
        {
          "output_type": "display_data",
          "data": {
            "text/plain": [
              "HBox(children=(FloatProgress(value=1.0, bar_style='info', max=1.0), HTML(value='')))"
            ]
          },
          "metadata": {
            "tags": []
          }
        },
        {
          "output_type": "stream",
          "text": [
            "\rShuffling and writing examples to /root/tensorflow_datasets/fashion_mnist/3.0.0.incompleteCPD26G/fashion_mnist-test.tfrecord\n"
          ],
          "name": "stdout"
        },
        {
          "output_type": "display_data",
          "data": {
            "text/plain": [
              "HBox(children=(FloatProgress(value=0.0, max=10000.0), HTML(value='')))"
            ]
          },
          "metadata": {
            "tags": []
          }
        },
        {
          "output_type": "stream",
          "text": [
            "\u001b[1mDataset fashion_mnist downloaded and prepared to /root/tensorflow_datasets/fashion_mnist/3.0.0. Subsequent calls will reuse this data.\u001b[0m\n",
            "\r"
          ],
          "name": "stdout"
        }
      ]
    },
    {
      "cell_type": "markdown",
      "metadata": {
        "id": "zdHwmgwOpEfx"
      },
      "source": [
        "### Task 1.1 Revisit Fashion-MNIST classification with DNN\n",
        "\n",
        "*(weight ~2%)*\n",
        "\n",
        "Review your Assignment 1 solution, and reproduce the experiment here. Try to improve the model without changing the model architecture.\n"
      ]
    },
    {
      "cell_type": "markdown",
      "metadata": {
        "id": "EWW_LFFWhFvt"
      },
      "source": [
        ">\n",
        "**Note :** I make an Input pipeline with using tf.data for processing data(batch,shuffle and cach) and using AUTOTUNE for prefetch data."
      ]
    },
    {
      "cell_type": "code",
      "metadata": {
        "id": "cFHpCqeCV6-o"
      },
      "source": [
        "AUTOTUNE = tf.data.experimental.AUTOTUNE\n",
        "def pre_process_image(image, label):\n",
        "  image = tf.image.convert_image_dtype(image, tf.float32) ##rescaling the image\n",
        "  return image, label\n",
        "\n",
        "TRAIN_BATCH_SIZE = 32\n",
        "train_batches = fashion_mnist_train.map(pre_process_image).batch(TRAIN_BATCH_SIZE).shuffle(buffer_size=1000).cache().prefetch(AUTOTUNE)\n",
        "validatioin_batches = fashion_mnist_valid.map(pre_process_image).batch(TRAIN_BATCH_SIZE).shuffle(buffer_size=1000).cache().prefetch(AUTOTUNE)"
      ],
      "execution_count": null,
      "outputs": []
    },
    {
      "cell_type": "code",
      "metadata": {
        "id": "pq0KsStrZTJ9"
      },
      "source": [
        "def make_model():\n",
        "  model = models.Sequential()\n",
        "  model.add(keras.layers.Flatten(input_shape=(28,28)))\n",
        "  model.add(keras.layers.Dense(64,activation='relu'))\n",
        "  model.add(keras.layers.Dense(128,activation='relu'))\n",
        "  model.add(keras.layers.Dense(10,activation='softmax'))\n",
        "  return model"
      ],
      "execution_count": null,
      "outputs": []
    },
    {
      "cell_type": "code",
      "metadata": {
        "id": "3_tbBpE_WD2n"
      },
      "source": [
        "model_initilal = make_model()"
      ],
      "execution_count": null,
      "outputs": []
    },
    {
      "cell_type": "code",
      "metadata": {
        "id": "qyi-cy_7fwhl"
      },
      "source": [
        "fashion_mnist_test = fashion_mnist_test.map(pre_process_image).batch(32)"
      ],
      "execution_count": null,
      "outputs": []
    },
    {
      "cell_type": "code",
      "metadata": {
        "id": "fGGR20YlWJrg"
      },
      "source": [
        "model_initilal.compile(optimizer='sgd',\n",
        "              loss=keras.losses.sparse_categorical_crossentropy,\n",
        "              metrics=['accuracy'])"
      ],
      "execution_count": null,
      "outputs": []
    },
    {
      "cell_type": "code",
      "metadata": {
        "id": "KZ4c8Tw1WOcM"
      },
      "source": [
        "%%time\n",
        "history = model_initilal.fit(train_batches,epochs=100,\n",
        "                   validation_data=validatioin_batches,\n",
        "                    )"
      ],
      "execution_count": null,
      "outputs": []
    },
    {
      "cell_type": "code",
      "metadata": {
        "id": "NgjC8jXiX25I",
        "outputId": "63cc3e8a-db9d-454f-fc49-4bf3c8ae2f2c",
        "colab": {
          "base_uri": "https://localhost:8080/",
          "height": 51
        }
      },
      "source": [
        "model_initilal.evaluate(fashion_mnist_test)"
      ],
      "execution_count": null,
      "outputs": [
        {
          "output_type": "stream",
          "text": [
            "313/313 [==============================] - 1s 3ms/step - loss: 0.3784 - accuracy: 0.8819\n"
          ],
          "name": "stdout"
        },
        {
          "output_type": "execute_result",
          "data": {
            "text/plain": [
              "[0.37836742401123047, 0.8819000124931335]"
            ]
          },
          "metadata": {
            "tags": []
          },
          "execution_count": 37
        }
      ]
    },
    {
      "cell_type": "code",
      "metadata": {
        "id": "-3BS87B4cOym"
      },
      "source": [
        "sgd = keras.optimizers.SGD(lr=0.001,momentum=0.9)\n"
      ],
      "execution_count": null,
      "outputs": []
    },
    {
      "cell_type": "code",
      "metadata": {
        "id": "1q_pMJYnciZo"
      },
      "source": [
        "model_learning_rate = make_model()"
      ],
      "execution_count": null,
      "outputs": []
    },
    {
      "cell_type": "code",
      "metadata": {
        "id": "ww4AtNf7cpZM"
      },
      "source": [
        "model_learning_rate.compile(optimizer=sgd,loss=keras.losses.sparse_categorical_crossentropy,\n",
        "                            metrics=['accuracy'])\n"
      ],
      "execution_count": null,
      "outputs": []
    },
    {
      "cell_type": "code",
      "metadata": {
        "id": "hl1Uac_XdAPH"
      },
      "source": [
        "%%time\n",
        "history_learning_rate = model_learning_rate.fit(train_batches,epochs=100,\n",
        "                   validation_data=validatioin_batches)"
      ],
      "execution_count": null,
      "outputs": []
    },
    {
      "cell_type": "code",
      "metadata": {
        "id": "TqXpUZmVfebH",
        "outputId": "4d82b267-d3c7-475f-bd9a-264917b25904",
        "colab": {
          "base_uri": "https://localhost:8080/",
          "height": 51
        }
      },
      "source": [
        "model_learning_rate.evaluate(fashion_mnist_test)"
      ],
      "execution_count": null,
      "outputs": [
        {
          "output_type": "stream",
          "text": [
            "313/313 [==============================] - 1s 3ms/step - loss: 0.3873 - accuracy: 0.8780\n"
          ],
          "name": "stdout"
        },
        {
          "output_type": "execute_result",
          "data": {
            "text/plain": [
              "[0.3873063325881958, 0.878000020980835]"
            ]
          },
          "metadata": {
            "tags": []
          },
          "execution_count": 65
        }
      ]
    },
    {
      "cell_type": "code",
      "metadata": {
        "id": "OdnJnbCId-9h"
      },
      "source": [
        "model_dropout = keras.Sequential([\n",
        "                keras.layers.Flatten(input_shape=(28,28)),\n",
        "                keras.layers.Dense(64,activation='relu'),\n",
        "                keras.layers.Dense(128,activation='relu'),\n",
        "                keras.layers.Dropout(0.4),\n",
        "                keras.layers.Dense(10,activation='softmax')                        \n",
        "])"
      ],
      "execution_count": null,
      "outputs": []
    },
    {
      "cell_type": "code",
      "metadata": {
        "id": "OH1km8aReEaV"
      },
      "source": [
        "model_dropout.compile(optimizer=keras.optimizers.SGD(),loss=keras.losses.sparse_categorical_crossentropy,\n",
        "                            metrics=['accuracy'])\n"
      ],
      "execution_count": null,
      "outputs": []
    },
    {
      "cell_type": "code",
      "metadata": {
        "id": "DP4vwNiSeKPJ"
      },
      "source": [
        "%%time\n",
        "history_dropout = model_dropout.fit(train_batches,epochs=100,\n",
        "                   validation_data=validatioin_batches)"
      ],
      "execution_count": null,
      "outputs": []
    },
    {
      "cell_type": "code",
      "metadata": {
        "id": "97rxxY0qhu4H",
        "outputId": "0b1f0677-01d3-4d11-8ccf-7dc123435617",
        "colab": {
          "base_uri": "https://localhost:8080/",
          "height": 51
        }
      },
      "source": [
        "model_dropout.evaluate(fashion_mnist_test)"
      ],
      "execution_count": null,
      "outputs": [
        {
          "output_type": "stream",
          "text": [
            "313/313 [==============================] - 1s 3ms/step - loss: 0.3160 - accuracy: 0.8886\n"
          ],
          "name": "stdout"
        },
        {
          "output_type": "execute_result",
          "data": {
            "text/plain": [
              "[0.31595319509506226, 0.8885999917984009]"
            ]
          },
          "metadata": {
            "tags": []
          },
          "execution_count": 72
        }
      ]
    },
    {
      "cell_type": "markdown",
      "metadata": {
        "id": "gh8AKMzEx5yB"
      },
      "source": [
        "\n",
        "\n",
        "Task | Model | Epochs | Training_Time | Test_Accuracy\n",
        "--- | --- | --- | --- | --- |\n",
        "Inital)| Fashion_mnist | 100 | 7min 14s | 0.8819\n",
        "DNN adding lr| Fashion_mnist | 100 | 7min 9s | 0.8780\n",
        "DNN adding drop out| Fashion_mnist | 100 | 7min 14s | 0.8886\n",
        "\n",
        "\n",
        "\n",
        "**Note :** The accuracy Test has slightly imporved by adding dropout"
      ]
    },
    {
      "cell_type": "code",
      "metadata": {
        "id": "6nT7c3AehUkx"
      },
      "source": [
        "def make_cnn_model():\n",
        "  model = models.Sequential()\n",
        "  model.add(keras.layers.Conv2D(32,(3,3),activation='relu',input_shape=(28,28,1)))\n",
        "  model.add(keras.layers.MaxPooling2D((2,2)))\n",
        "  model.add(keras.layers.Conv2D(64,(3,3),activation='relu'))\n",
        "  model.add(keras.layers.MaxPooling2D((2,2)))\n",
        "  model.add(keras.layers.Conv2D(128,(3,3),activation='relu'))\n",
        "  model.add(keras.layers.Flatten())\n",
        "  model.add(keras.layers.Dense(64,activation='relu'))\n",
        "  model.add(keras.layers.Dropout(0.5))\n",
        "  model.add(keras.layers.Dense(10,activation='softmax'))\n",
        "  return model"
      ],
      "execution_count": null,
      "outputs": []
    },
    {
      "cell_type": "code",
      "metadata": {
        "id": "U6c9qNbWlUZ-"
      },
      "source": [
        "model_initial_cnn = make_cnn_model()"
      ],
      "execution_count": null,
      "outputs": []
    },
    {
      "cell_type": "code",
      "metadata": {
        "id": "iI1Ns1PBln9Z"
      },
      "source": [
        "model_initial_cnn.compile(optimizer='sgd',\n",
        "                     loss= keras.losses.sparse_categorical_crossentropy,\n",
        "                     metrics=['accuracy'])"
      ],
      "execution_count": null,
      "outputs": []
    },
    {
      "cell_type": "code",
      "metadata": {
        "id": "-WhexfY1lxx2"
      },
      "source": [
        "%%time \n",
        "history_initial_cnn = model_initial_cnn.fit(train_batches,epochs=100,validation_data=validatioin_batches)"
      ],
      "execution_count": null,
      "outputs": []
    },
    {
      "cell_type": "code",
      "metadata": {
        "id": "Ve4oI8j8ni0E",
        "outputId": "bd9dd629-ddeb-42c8-c88b-45c44ccaaf69",
        "colab": {
          "base_uri": "https://localhost:8080/",
          "height": 51
        }
      },
      "source": [
        "model_initial_cnn.evaluate(fashion_mnist_test)"
      ],
      "execution_count": null,
      "outputs": [
        {
          "output_type": "stream",
          "text": [
            "313/313 [==============================] - 1s 3ms/step - loss: 0.3292 - accuracy: 0.9103\n"
          ],
          "name": "stdout"
        },
        {
          "output_type": "execute_result",
          "data": {
            "text/plain": [
              "[0.3292044699192047, 0.9103000164031982]"
            ]
          },
          "metadata": {
            "tags": []
          },
          "execution_count": 79
        }
      ]
    },
    {
      "cell_type": "markdown",
      "metadata": {
        "id": "jMU1inMx2fw6"
      },
      "source": [
        ">\\\n",
        "\n",
        "Task | Model | Epochs | Training_Time | Test_Accuracy\n",
        "--- | --- | --- | --- | --- |\n",
        "Initial CNN(with dropout)| Fashion_mnist | 100 | 8min 43s | 0.9103"
      ]
    },
    {
      "cell_type": "markdown",
      "metadata": {
        "id": "qbhr44DnMbKZ"
      },
      "source": [
        "\n",
        "### Task 1.3 Build an input pipeline for data augmentation\n",
        "\n",
        "*(weight ~4%)*\n",
        "\n",
        "Build a data preprocessing pipeline to perform data augmentation. (You may use Keras ImageDataGenerator or write your own transformations.)\n",
        "\n",
        "- Report the new classification accuracy. Make sure that you use the same number of training epochs as in Task 1.2.\n",
        "\n",
        "- (Optional) Profile your input pipeline to identify the most time-consuming operation. What actions have you taken to address that slow operation? (*Hint: You may use the [TensorFlow Profiler](https://github.com/tensorflow/profiler).*)"
      ]
    },
    {
      "cell_type": "markdown",
      "metadata": {
        "id": "ebFcZ9XReH8c"
      },
      "source": [
        ">\n",
        "**Note:** I have made a pipleline by using tf.data.experimental.autotune (doing batch size ,shuffle and prefetch()) for  Task 1.1 So I use the same input pipeline for this Task And also I have made an input pipeline by loading  data from keras.dataset and use tf.data to make an Input pipeline\n"
      ]
    },
    {
      "cell_type": "markdown",
      "metadata": {
        "id": "PKnauajNfXDY"
      },
      "source": [
        "**Make a Transformation for Data Augmentation**"
      ]
    },
    {
      "cell_type": "code",
      "metadata": {
        "id": "nbeKjFkjpwJ9"
      },
      "source": [
        "def data_augmentation(images,labels):\n",
        "  #images = tf.image.random_flip_left_right(images)\n",
        "  #images = tf.image.resize_with_crop_or_pad(images,32,32)\n",
        "  #images = tf.image.random_flip_up_down(images)\n",
        "  #images = tf.image.central_crop(images,0.9)\n",
        "  images = tf.image.flip_left_right(images)\n",
        "  images = tf.image.rot90(images)\n",
        "  images = tf.image.adjust_saturation(images,3)\n",
        "  images = tf.image.adjust_brightness(images,0.4)\n",
        "  images= tf.image.central_crop(images,0.5)\n",
        "  return images,labels"
      ],
      "execution_count": null,
      "outputs": []
    },
    {
      "cell_type": "code",
      "metadata": {
        "id": "BxTkIAWRqLcN",
        "outputId": "98cca523-b837-45e0-d965-bb8fcb4ec457",
        "colab": {
          "base_uri": "https://localhost:8080/",
          "height": 34
        }
      },
      "source": [
        "train_batches.map(data_augmentation)\n",
        "validatioin_batches.map(data_augmentation)"
      ],
      "execution_count": null,
      "outputs": [
        {
          "output_type": "execute_result",
          "data": {
            "text/plain": [
              "<DatasetV1Adapter shapes: ((None, 14, 14, 1), (None,)), types: (tf.float32, tf.int64)>"
            ]
          },
          "metadata": {
            "tags": []
          },
          "execution_count": 62
        }
      ]
    },
    {
      "cell_type": "code",
      "metadata": {
        "id": "JcXYY9BzqX_0"
      },
      "source": [
        "model_data_augment = make_cnn_model()\n"
      ],
      "execution_count": null,
      "outputs": []
    },
    {
      "cell_type": "code",
      "metadata": {
        "id": "ZP4Y4llAqtSF"
      },
      "source": [
        "model_data_augment.compile(optimizer='sgd',\n",
        "                     loss= keras.losses.sparse_categorical_crossentropy,\n",
        "                     metrics=['accuracy'])"
      ],
      "execution_count": null,
      "outputs": []
    },
    {
      "cell_type": "code",
      "metadata": {
        "id": "uY_RIKa2q5Ib"
      },
      "source": [
        "%%time\n",
        "history_data_augment = model_data_augment.fit(train_batches,epochs=100,validation_data=validatioin_batches)"
      ],
      "execution_count": null,
      "outputs": []
    },
    {
      "cell_type": "code",
      "metadata": {
        "id": "CiikNaiQuY0t",
        "outputId": "538bef59-d270-4f81-e2f0-76dd93d8e8aa",
        "colab": {
          "base_uri": "https://localhost:8080/",
          "height": 51
        }
      },
      "source": [
        "model_data_augment.evaluate(fashion_mnist_test)"
      ],
      "execution_count": null,
      "outputs": [
        {
          "output_type": "stream",
          "text": [
            "313/313 [==============================] - 1s 3ms/step - loss: 0.6548 - accuracy: 0.8893\n"
          ],
          "name": "stdout"
        },
        {
          "output_type": "execute_result",
          "data": {
            "text/plain": [
              "[0.6547605395317078, 0.8892999887466431]"
            ]
          },
          "metadata": {
            "tags": []
          },
          "execution_count": 72
        }
      ]
    },
    {
      "cell_type": "code",
      "metadata": {
        "id": "bJ6u5GO_Ao_2"
      },
      "source": [
        "from keras.preprocessing.image import ImageDataGenerator"
      ],
      "execution_count": null,
      "outputs": []
    },
    {
      "cell_type": "code",
      "metadata": {
        "id": "Ycd0Ka9oge-Y"
      },
      "source": [
        "from keras.preprocessing.image import ImageDataGenerator\n",
        "from keras.utils import to_categorical"
      ],
      "execution_count": null,
      "outputs": []
    },
    {
      "cell_type": "code",
      "metadata": {
        "id": "YhmgyqLIg2n6"
      },
      "source": [
        "datagen = ImageDataGenerator(\n",
        "            rotation_range=0,\n",
        "            width_shift_range=0,\n",
        "            height_shift_range=0,\n",
        "            shear_range=0,\n",
        "            zoom_range=0,\n",
        "            horizontal_flip=True,\n",
        "            fill_mode='nearest'\n",
        ")"
      ],
      "execution_count": null,
      "outputs": []
    },
    {
      "cell_type": "markdown",
      "metadata": {
        "id": "irTCF-0HewVL"
      },
      "source": [
        ">\n",
        "\n",
        "**Loading data from keras dataset** to make an input pipeline and use keras.ImageDatagenerator for  data augmetation"
      ]
    },
    {
      "cell_type": "code",
      "metadata": {
        "id": "jQdGZN7Hsb3Y"
      },
      "source": [
        "fashion_minst = keras.datasets.fashion_mnist\n",
        "(train_images,train_labels),  (test_images,test_labels) = fashion_minst.load_data()"
      ],
      "execution_count": null,
      "outputs": []
    },
    {
      "cell_type": "code",
      "metadata": {
        "id": "Au7cjY9Vs1bU"
      },
      "source": [
        "\n",
        "train_images = train_images.reshape((60000,28,28,1))\n",
        "train_images = train_images.astype('float32')/255\n",
        "# x_val = x_val.reshape((10000,28,28,1))\n",
        "# x_val = x_val.astype('float32')/255\n",
        "test_images = test_images.reshape((10000,28,28,1))\n",
        "test_images = test_images.astype('float32')/255\n",
        "train_labels = to_categorical(train_labels)\n",
        "test_labels = to_categorical(test_labels)"
      ],
      "execution_count": null,
      "outputs": []
    },
    {
      "cell_type": "code",
      "metadata": {
        "id": "OjChuQP9sD6P"
      },
      "source": [
        "x_val = train_images[:10000].reshape(10000,28,28,1)\n",
        "y_val = train_labels[:10000]"
      ],
      "execution_count": null,
      "outputs": []
    },
    {
      "cell_type": "code",
      "metadata": {
        "id": "cNEm9Eh4twjl",
        "outputId": "1c6978f5-fe53-4a93-e213-404965fe9892",
        "colab": {
          "base_uri": "https://localhost:8080/",
          "height": 34
        }
      },
      "source": [
        "x_val.shape"
      ],
      "execution_count": null,
      "outputs": [
        {
          "output_type": "execute_result",
          "data": {
            "text/plain": [
              "(10000, 28, 28, 1)"
            ]
          },
          "metadata": {
            "tags": []
          },
          "execution_count": 86
        }
      ]
    },
    {
      "cell_type": "code",
      "metadata": {
        "id": "BWuey5fQCyYy"
      },
      "source": [
        "##fashion_minst_train\n",
        "train_dataset = tf.data.Dataset.from_tensor_slices((train_images,train_labels))\n",
        "\n",
        "train_data = train_dataset.shuffle(buffer_size=10000)\n",
        "train_data = train_dataset.batch(512)\n",
        "iterator =train_data.as_numpy_iterator()\n",
        "\n",
        "images_batch , labels_batch = iterator.next()"
      ],
      "execution_count": null,
      "outputs": []
    },
    {
      "cell_type": "code",
      "metadata": {
        "id": "ioOBjHjtVXiN"
      },
      "source": [
        "##fashion_minst_train\n",
        "validation_dataset = tf.data.Dataset.from_tensor_slices((x_val,y_val))\n",
        "\n",
        "validation_data = validation_dataset.shuffle(buffer_size=10000)\n",
        "validation_data = validation_dataset.batch(512)\n",
        "iterator =validation_data.as_numpy_iterator()\n",
        "x_val , y_val = iterator.next()"
      ],
      "execution_count": null,
      "outputs": []
    },
    {
      "cell_type": "code",
      "metadata": {
        "id": "4J5wxdEvw7Ab"
      },
      "source": [
        "test_dataset = tf.data.Dataset.from_tensor_slices((test_images,test_labels))\n",
        "test_data = test_dataset.shuffle(buffer_size=10000)\n",
        "test_data = test_dataset.batch(512)\n",
        "iterator = test_data.as_numpy_iterator()\n",
        "test_images_batch ,test_labels_batch = iterator.next()"
      ],
      "execution_count": null,
      "outputs": []
    },
    {
      "cell_type": "code",
      "metadata": {
        "id": "aVlmIXQLtbY4",
        "outputId": "89d200e8-b105-45ec-b1ad-e5efc2e00c55",
        "colab": {
          "base_uri": "https://localhost:8080/",
          "height": 34
        }
      },
      "source": [
        "x_val.shape,images_batch.shape"
      ],
      "execution_count": null,
      "outputs": [
        {
          "output_type": "execute_result",
          "data": {
            "text/plain": [
              "((512, 28, 28, 1), (512, 28, 28, 1))"
            ]
          },
          "metadata": {
            "tags": []
          },
          "execution_count": 90
        }
      ]
    },
    {
      "cell_type": "code",
      "metadata": {
        "id": "TYWuvuCnJA1_"
      },
      "source": [
        "model_pipeline = keras.Sequential([\n",
        "               keras.layers.Conv2D(32,(3,3),activation='relu',input_shape=(28,28,1)) ,\n",
        "               keras.layers.MaxPooling2D((2,2)),\n",
        "               keras.layers.Conv2D(64,(3,3),activation='relu'),\n",
        "               keras.layers.MaxPooling2D((2,2)),\n",
        "               keras.layers.Conv2D(128,(3,3),activation='relu'),\n",
        "               keras.layers.Flatten(),\n",
        "               keras.layers.Dense(64,activation='relu') ,\n",
        "               keras.layers.Dense(10,activation='softmax') \n",
        "])  "
      ],
      "execution_count": null,
      "outputs": []
    },
    {
      "cell_type": "code",
      "metadata": {
        "id": "ED5m4tZ-Ouns"
      },
      "source": [
        "model_pipeline.compile(optimizer='sgd',\n",
        "                       loss=keras.losses.categorical_crossentropy,\n",
        "                       metrics=['accuracy'])\n"
      ],
      "execution_count": null,
      "outputs": []
    },
    {
      "cell_type": "code",
      "metadata": {
        "id": "BnNUmKXaOEiF"
      },
      "source": [
        "datagen.fit(train_images)"
      ],
      "execution_count": null,
      "outputs": []
    },
    {
      "cell_type": "code",
      "metadata": {
        "id": "ymeC1RZLuK_M"
      },
      "source": [
        "%%time\n",
        "history_pipeline = model_pipeline.fit(datagen.flow(images_batch,labels_batch),\n",
        "                                              epochs=100,validation_data=(x_val,y_val))"
      ],
      "execution_count": null,
      "outputs": []
    },
    {
      "cell_type": "code",
      "metadata": {
        "id": "IdcXVACNWlAp"
      },
      "source": [
        "datagen.fit(test_images_batch)\n",
        "\n",
        "\n"
      ],
      "execution_count": null,
      "outputs": []
    },
    {
      "cell_type": "code",
      "metadata": {
        "id": "ht5BUBvYYheV",
        "outputId": "9d10fdd0-4fcb-4dfb-8b8f-6d500cb58c8a",
        "colab": {
          "base_uri": "https://localhost:8080/",
          "height": 51
        }
      },
      "source": [
        "model_pipeline.evaluate(test_images_batch,test_labels_batch)"
      ],
      "execution_count": null,
      "outputs": [
        {
          "output_type": "stream",
          "text": [
            "16/16 [==============================] - 0s 2ms/step - loss: 0.6938 - accuracy: 0.7344\n"
          ],
          "name": "stdout"
        },
        {
          "output_type": "execute_result",
          "data": {
            "text/plain": [
              "[0.6937872171401978, 0.734375]"
            ]
          },
          "metadata": {
            "tags": []
          },
          "execution_count": 99
        }
      ]
    },
    {
      "cell_type": "code",
      "metadata": {
        "id": "H2f3XQfLWjkq"
      },
      "source": [
        ""
      ],
      "execution_count": null,
      "outputs": []
    },
    {
      "cell_type": "markdown",
      "metadata": {
        "id": "TeGc-UVxJWeb"
      },
      "source": [
        "----\n",
        "###### *** I have noticed significant improvement in time for making the model by creating an input pipeline with tf.data\n",
        "----"
      ]
    },
    {
      "cell_type": "markdown",
      "metadata": {
        "id": "prctXU4BswKK"
      },
      "source": [
        "### Task 1.4 Fashion-MNIST with transfer learning\n",
        "\n",
        "*(weight ~6%)*\n",
        "\n",
        "Use a pretrained model as the convolutional base to improve the classification performance. (Hint: You may use models in Keras Applications or those in the TensorFlow Hub.)\n",
        "\n",
        "- Try both with fine-tuning and without fine-tuning.\n",
        "- Report the model performance as before.\n",
        "\n"
      ]
    },
    {
      "cell_type": "markdown",
      "metadata": {
        "id": "U_6yEPHW0vFF"
      },
      "source": [
        ">\n",
        "**Note :** I have used VGG16(as pretraind model) without fine_tuning and fine_tunning the last layers(block5_conv1)"
      ]
    },
    {
      "cell_type": "code",
      "metadata": {
        "id": "mlyOS7fJNKqn"
      },
      "source": [
        "from keras.applications import VGG16\n",
        "\n",
        "convolutional_base = VGG16(weights='imagenet',\n",
        "                         include_top=False,\n",
        "                         input_shape=(64,64,3)\n",
        "                         )\n",
        "convolutional_base.summary()"
      ],
      "execution_count": null,
      "outputs": []
    },
    {
      "cell_type": "code",
      "metadata": {
        "id": "yqjGQWCzNvbZ"
      },
      "source": [
        "convolutional_base.trainable = False"
      ],
      "execution_count": null,
      "outputs": []
    },
    {
      "cell_type": "code",
      "metadata": {
        "id": "6qd207tDxsrl"
      },
      "source": [
        "import tensorflow as tf\n",
        "import tensorflow_datasets as tfds"
      ],
      "execution_count": null,
      "outputs": []
    },
    {
      "cell_type": "code",
      "metadata": {
        "id": "Z4pui_IlMHj7"
      },
      "source": [
        "TRAIN_DS_SIZE = 40000\n",
        "VALID_DS_SIZE = 10000\n",
        "TEST_DS_SIZE = 10000\n",
        "\n",
        "(fashion_mnist_train, fashion_mnist_valid, fashion_mnist_test), info = tfds.load('fashion_mnist', \n",
        "                                                               split=[f'train[:{TRAIN_DS_SIZE}]', \n",
        "                                                                      f'train[{TRAIN_DS_SIZE}:{TRAIN_DS_SIZE + VALID_DS_SIZE}]', \n",
        "                                                                      f'train[{TRAIN_DS_SIZE + VALID_DS_SIZE}:{TRAIN_DS_SIZE + VALID_DS_SIZE + TEST_DS_SIZE}]'],\n",
        "                                                               with_info=True,\n",
        "                                                               as_supervised=True)"
      ],
      "execution_count": null,
      "outputs": []
    },
    {
      "cell_type": "code",
      "metadata": {
        "id": "D8eLXadErUdZ"
      },
      "source": [
        "AUTOTUNE = tf.data.experimental.AUTOTUNE\n",
        "IMAGE_SIZE = (64,64)\n",
        "def pre_process_image_rgb(image, label):\n",
        "  #image = tf.\n",
        "  image = tf.image.convert_image_dtype(image, tf.float32) ## Instead of manually scale the image, call a `tf.image` tool\n",
        "  image = tf.image.resize(image, (IMAGE_SIZE))\n",
        "  image = tf.image.grayscale_to_rgb(image)\n",
        "  return image, label\n",
        "TRAIN_BATCH_SIZE =32\n",
        "train_batches = fashion_mnist_train.map(pre_process_image_rgb).batch(TRAIN_BATCH_SIZE).shuffle(buffer_size=1000).cache().prefetch(AUTOTUNE)\n",
        "validatioin_batches = fashion_mnist_valid.map(pre_process_image_rgb).batch(TRAIN_BATCH_SIZE).shuffle(buffer_size=1000).cache().prefetch(AUTOTUNE)\n"
      ],
      "execution_count": null,
      "outputs": []
    },
    {
      "cell_type": "code",
      "metadata": {
        "id": "iVDcBiaAgC4C",
        "outputId": "2b5895df-b931-4eb9-ca79-ac9625f00ec1",
        "colab": {
          "base_uri": "https://localhost:8080/",
          "height": 34
        }
      },
      "source": [
        "train_batches"
      ],
      "execution_count": null,
      "outputs": [
        {
          "output_type": "execute_result",
          "data": {
            "text/plain": [
              "<DatasetV1Adapter shapes: ((None, 64, 64, 3), (None,)), types: (tf.float32, tf.int64)>"
            ]
          },
          "metadata": {
            "tags": []
          },
          "execution_count": 21
        }
      ]
    },
    {
      "cell_type": "code",
      "metadata": {
        "id": "mBO9K9eXgIae",
        "outputId": "85d9789d-82c1-420b-a0fd-9d63070545de",
        "colab": {
          "base_uri": "https://localhost:8080/",
          "height": 34
        }
      },
      "source": [
        "fashion_mnist_test"
      ],
      "execution_count": null,
      "outputs": [
        {
          "output_type": "execute_result",
          "data": {
            "text/plain": [
              "<DatasetV1Adapter shapes: ((28, 28, 1), ()), types: (tf.uint8, tf.int64)>"
            ]
          },
          "metadata": {
            "tags": []
          },
          "execution_count": 22
        }
      ]
    },
    {
      "cell_type": "code",
      "metadata": {
        "id": "elkYS16mtckW"
      },
      "source": [
        "from keras import models\n",
        "from keras import layers\n",
        "from keras import optimizers"
      ],
      "execution_count": null,
      "outputs": []
    },
    {
      "cell_type": "code",
      "metadata": {
        "id": "_mRmGfDnPIdQ"
      },
      "source": [
        "def make_pretrained_model():\n",
        "  model = models.Sequential()\n",
        "  model.add(convolutional_base)\n",
        "  # model.add(keras.layers.Conv2D(32,(3,3),activation='relu',input_shape=(28,28,1)))\n",
        "  # model.add(keras.layers.MaxPooling2D((2,2)))\n",
        "  # model.add(keras.layers.Conv2D(64,(3,3),activation='relu'))\n",
        "  # model.add(keras.layers.MaxPooling2D((2,2)))\n",
        "  # model.add(keras.layers.Conv2D(128,(3,3),activation='relu'))\n",
        "  model.add(keras.layers.Flatten())\n",
        "  model.add(keras.layers.Dense(64,activation='relu'))\n",
        "  model.add(keras.layers.Dense(10,activation='softmax'))\n",
        "  return model"
      ],
      "execution_count": null,
      "outputs": []
    },
    {
      "cell_type": "code",
      "metadata": {
        "id": "SUx1BNikuvez"
      },
      "source": [
        "model_pretrained_model = models.Sequential()\n",
        "model_pretrained_model.add(convolutional_base)\n",
        "model_pretrained_model.add(layers.Flatten())\n",
        "#model_pretrained_model.add(layers.Dense(1024,activation='relu'))\n",
        "#model_pretrained_model.add(layers.Dense(512,activation='relu'))\n",
        "model_pretrained_model.add(layers.Dense(256,activation='relu'))\n",
        "model_pretrained_model.add(layers.Dropout(0.4))\n",
        "model_pretrained_model.add(layers.Dense(10,activation='sigmoid'))"
      ],
      "execution_count": null,
      "outputs": []
    },
    {
      "cell_type": "code",
      "metadata": {
        "id": "Eq6wUQRIQIfp"
      },
      "source": [
        "model_pretrained_model = make_pretrained_model()"
      ],
      "execution_count": null,
      "outputs": []
    },
    {
      "cell_type": "code",
      "metadata": {
        "id": "fm2Gzbm0vdDM"
      },
      "source": [
        "model_pretrained_model.compile(optimizer= 'sgd',\n",
        "                     loss= keras.losses.sparse_categorical_crossentropy,\n",
        "                     metrics=['accuracy'])"
      ],
      "execution_count": null,
      "outputs": []
    },
    {
      "cell_type": "code",
      "metadata": {
        "id": "VnIFHvGUCUGn"
      },
      "source": [
        "model_pretrained_model.summary()"
      ],
      "execution_count": null,
      "outputs": []
    },
    {
      "cell_type": "code",
      "metadata": {
        "id": "jUKmMWmx_FoU"
      },
      "source": [
        "## without fine Tunning\n",
        "%%time\n",
        "\n",
        "history_pretrained_model = model_pretrained_model.fit(train_batches,\n",
        "                                                      epochs=100,\n",
        "                                                      validation_data=validatioin_batches,\n",
        "                                                      \n",
        ") "
      ],
      "execution_count": null,
      "outputs": []
    },
    {
      "cell_type": "code",
      "metadata": {
        "id": "8U52sQ7JgRM8"
      },
      "source": [
        "fashion_mnist_test = fashion_mnist_test.map(pre_process_image_rgb).batch(TRAIN_BATCH_SIZE)"
      ],
      "execution_count": null,
      "outputs": []
    },
    {
      "cell_type": "code",
      "metadata": {
        "id": "5IpNT-xUWC2w",
        "outputId": "29a9c73f-7830-4796-ba41-7d7b1eadd731",
        "colab": {
          "base_uri": "https://localhost:8080/",
          "height": 51
        }
      },
      "source": [
        "model_pretrained_model.evaluate(fashion_mnist_test)"
      ],
      "execution_count": null,
      "outputs": [
        {
          "output_type": "stream",
          "text": [
            "313/313 [==============================] - 3s 10ms/step - loss: 0.2897 - accuracy: 0.8985\n"
          ],
          "name": "stdout"
        },
        {
          "output_type": "execute_result",
          "data": {
            "text/plain": [
              "[0.2897176146507263, 0.8985000252723694]"
            ]
          },
          "metadata": {
            "tags": []
          },
          "execution_count": 25
        }
      ]
    },
    {
      "cell_type": "code",
      "metadata": {
        "id": "PdnPwjnOTsx_"
      },
      "source": [
        "## Fine_Tunning\n",
        "\n",
        "convolutional_base.trainable = True\n",
        "\n",
        "set_trainable = False\n",
        "for layer in convolutional_base.layers:\n",
        "  if (layer.name == 'block5_conv1') :\n",
        "    set_trainable = True\n",
        "  if set_trainable:\n",
        "    layer.trainable = True\n",
        "  else:\n",
        "    layer.trainable = False \n",
        "      \n"
      ],
      "execution_count": null,
      "outputs": []
    },
    {
      "cell_type": "code",
      "metadata": {
        "id": "ugwaTEbpUB5r"
      },
      "source": [
        "model_pretrained_model_fine_tunning = models.Sequential()\n",
        "model_pretrained_model_fine_tunning.add(convolutional_base)\n",
        "model_pretrained_model_fine_tunning.add(layers.Flatten())\n",
        "#model_pretrained_model.add(layers.Dense(1024,activation='relu'))\n",
        "#model_pretrained_model.add(layers.Dense(512,activation='relu'))\n",
        "model_pretrained_model_fine_tunning.add(layers.Dense(64,activation='relu'))\n",
        "#model_pretrained_model_fine_tunning.add(layers.Dropout(0.4))\n",
        "model_pretrained_model_fine_tunning.add(layers.Dense(10,activation='sigmoid'))"
      ],
      "execution_count": null,
      "outputs": []
    },
    {
      "cell_type": "code",
      "metadata": {
        "id": "y3V9Mtg7UaCu"
      },
      "source": [
        "model_pretrained_model_fine_tunning.compile(optimizer= 'sgd',\n",
        "                     loss= keras.losses.sparse_categorical_crossentropy,\n",
        "                     metrics=['accuracy'])"
      ],
      "execution_count": null,
      "outputs": []
    },
    {
      "cell_type": "code",
      "metadata": {
        "id": "j_tRDEsRUjE_"
      },
      "source": [
        "%%time\n",
        "history_pretrained_model = model_pretrained_model_fine_tunning.fit(train_batches,epochs=100,\n",
        "                                                      validation_data=validatioin_batches,\n",
        "                                                     \n",
        ") "
      ],
      "execution_count": null,
      "outputs": []
    },
    {
      "cell_type": "code",
      "metadata": {
        "id": "fGnnIYRWoPEB",
        "outputId": "b803bdc9-6595-4009-de36-4ea99dcdcf9d",
        "colab": {
          "base_uri": "https://localhost:8080/",
          "height": 51
        }
      },
      "source": [
        "model_pretrained_model_fine_tunning.evaluate(fashion_mnist_test)"
      ],
      "execution_count": null,
      "outputs": [
        {
          "output_type": "stream",
          "text": [
            "313/313 [==============================] - 3s 10ms/step - loss: 0.4271 - accuracy: 0.9338\n"
          ],
          "name": "stdout"
        },
        {
          "output_type": "execute_result",
          "data": {
            "text/plain": [
              "[0.4271024763584137, 0.9337999820709229]"
            ]
          },
          "metadata": {
            "tags": []
          },
          "execution_count": 32
        }
      ]
    },
    {
      "cell_type": "markdown",
      "metadata": {
        "id": "UaHLKDLas_dF"
      },
      "source": [
        "### Task 1.5 Performance comparison\n",
        "\n",
        "*(weight ~4%)*\n",
        "\n",
        "Record the test accuracy achieved at different training configurations above. Which method achieved the highest accuracy? Why did it work better for this problem?\n"
      ]
    },
    {
      "cell_type": "markdown",
      "metadata": {
        "id": "TnAIZCMB1wht"
      },
      "source": [
        "Task | Model | Epochs | Training_Time | Test_Accuracy\n",
        "--- | --- | --- | --- | --- |\n",
        "Inital_CNN (loading dataset from tfds)| Convnet | 100 | 8mins 54s  |  0.8868\n",
        "Input pipeline (loading dataset from tfds)| data augmentation(own transformation) | 100 | 8mins 52s  |  0.8893\n",
        "Pretrained model(without fine tunnung)| VGG16 |100  | 14mins 36s | 0.8985 |\n",
        "Pretrained model(with fine tunnung)| VGG16 |100  | 21mins 47s | 0.9338 |\n",
        "Data augmentaion(ImageDataGenerator)| dataset from keras dataset|100  | 20.4 s | 0.7344 |"
      ]
    },
    {
      "cell_type": "markdown",
      "metadata": {
        "id": "d3U-HH8lc2Lx"
      },
      "source": [
        ">\\\n",
        "**Answer:** Pretrained model with fine_tunning has the highest accuracy.\n",
        "pretrained model for this instance VGG16 is trained on large dataset, so they effectively act as a generic model for small dataset(here Fashion_mnist). feature extraction technique in using pretrained models consists of taking of the convolutional base of previously trained network(VGG16) , running the new data through it and training a new classifier on it."
      ]
    },
    {
      "cell_type": "markdown",
      "metadata": {
        "id": "ouK5NY-_pLDK"
      },
      "source": [
        "## Task 2 Fast training of deep networks\n",
        "\n",
        "*(weight ~16%)*"
      ]
    },
    {
      "cell_type": "markdown",
      "metadata": {
        "id": "LgoOE2W1pdfN"
      },
      "source": [
        "###### Task 2.1 Train a highly accurate network for CIFAR10\n",
        "\n",
        "*(weight ~6%, each subquestion worths ~2%)*\n",
        "\n",
        "In this task, you will train deep neural networks on the [CIFAR10 dataset](https://www.cs.toronto.edu/~kriz/cifar.html). Compared with the datasets that you have worked on so far, CIFAR10 represents a relatively larger multi-class classification problem and presents a great opportunity for you to solve a \"harder\" problem.\n",
        "\n"
      ]
    },
    {
      "cell_type": "markdown",
      "metadata": {
        "id": "IaD5oqj3lhuI"
      },
      "source": [
        "#### Task 2.1.1 Document the hardware used\n",
        "\n",
        "Before you start, write down your hardware specifications, including \n",
        "\n",
        "- the GPU model, the number of GPUs, and the GPU memory\n",
        "- the CPU model, the number of CPUs, and the CPU clock speed\n",
        "\n",
        "(Hint: you may find commands like `nvidia-smi`, `lscpu` or `psutil` useful.)"
      ]
    },
    {
      "cell_type": "markdown",
      "metadata": {
        "id": "nYdhevNraRWZ"
      },
      "source": [
        ""
      ]
    },
    {
      "cell_type": "code",
      "metadata": {
        "id": "eBNsVnW86FxM",
        "outputId": "8d52fbf0-b6ec-4681-fdff-3bbad45dcb46",
        "colab": {
          "base_uri": "https://localhost:8080/",
          "height": 357
        }
      },
      "source": [
        "!nvidia-smi"
      ],
      "execution_count": null,
      "outputs": [
        {
          "output_type": "stream",
          "text": [
            "Mon Sep 28 01:48:40 2020       \n",
            "+-----------------------------------------------------------------------------+\n",
            "| NVIDIA-SMI 450.66       Driver Version: 418.67       CUDA Version: 10.1     |\n",
            "|-------------------------------+----------------------+----------------------+\n",
            "| GPU  Name        Persistence-M| Bus-Id        Disp.A | Volatile Uncorr. ECC |\n",
            "| Fan  Temp  Perf  Pwr:Usage/Cap|         Memory-Usage | GPU-Util  Compute M. |\n",
            "|                               |                      |               MIG M. |\n",
            "|===============================+======================+======================|\n",
            "|   0  Tesla P100-PCIE...  Off  | 00000000:00:04.0 Off |                    0 |\n",
            "| N/A   37C    P0    32W / 250W |    825MiB / 16280MiB |      0%      Default |\n",
            "|                               |                      |                 ERR! |\n",
            "+-------------------------------+----------------------+----------------------+\n",
            "                                                                               \n",
            "+-----------------------------------------------------------------------------+\n",
            "| Processes:                                                                  |\n",
            "|  GPU   GI   CI        PID   Type   Process name                  GPU Memory |\n",
            "|        ID   ID                                                   Usage      |\n",
            "|=============================================================================|\n",
            "|  No running processes found                                                 |\n",
            "+-----------------------------------------------------------------------------+\n"
          ],
          "name": "stdout"
        }
      ]
    },
    {
      "cell_type": "code",
      "metadata": {
        "id": "b27FS8u68YSt",
        "outputId": "a377d0d9-6f02-43e1-848b-005433e9d39e",
        "colab": {
          "base_uri": "https://localhost:8080/",
          "height": 445
        }
      },
      "source": [
        "!lscpu"
      ],
      "execution_count": null,
      "outputs": [
        {
          "output_type": "stream",
          "text": [
            "Architecture:        x86_64\n",
            "CPU op-mode(s):      32-bit, 64-bit\n",
            "Byte Order:          Little Endian\n",
            "CPU(s):              4\n",
            "On-line CPU(s) list: 0-3\n",
            "Thread(s) per core:  2\n",
            "Core(s) per socket:  2\n",
            "Socket(s):           1\n",
            "NUMA node(s):        1\n",
            "Vendor ID:           GenuineIntel\n",
            "CPU family:          6\n",
            "Model:               79\n",
            "Model name:          Intel(R) Xeon(R) CPU @ 2.20GHz\n",
            "Stepping:            0\n",
            "CPU MHz:             2199.998\n",
            "BogoMIPS:            4399.99\n",
            "Hypervisor vendor:   KVM\n",
            "Virtualization type: full\n",
            "L1d cache:           32K\n",
            "L1i cache:           32K\n",
            "L2 cache:            256K\n",
            "L3 cache:            56320K\n",
            "NUMA node0 CPU(s):   0-3\n",
            "Flags:               fpu vme de pse tsc msr pae mce cx8 apic sep mtrr pge mca cmov pat pse36 clflush mmx fxsr sse sse2 ss ht syscall nx pdpe1gb rdtscp lm constant_tsc rep_good nopl xtopology nonstop_tsc cpuid tsc_known_freq pni pclmulqdq ssse3 fma cx16 pcid sse4_1 sse4_2 x2apic movbe popcnt aes xsave avx f16c rdrand hypervisor lahf_lm abm 3dnowprefetch invpcid_single ssbd ibrs ibpb stibp fsgsbase tsc_adjust bmi1 hle avx2 smep bmi2 erms invpcid rtm rdseed adx smap xsaveopt arat md_clear arch_capabilities\n"
          ],
          "name": "stdout"
        }
      ]
    },
    {
      "cell_type": "markdown",
      "metadata": {
        "id": "broMsQMUZi0n"
      },
      "source": [
        ">\n",
        "**Answer**  My hardware specification : My system has one GPU model(Tesla P100-PCIE) with  (16280MiB ) memory.\n",
        "           My system  has 4 CPU. The model of Cpu is Intel(R) Xeon(R) CPU \n",
        "           with 2.20 GHZ memory\n"
      ]
    },
    {
      "cell_type": "markdown",
      "metadata": {
        "id": "adN9Tq-6lyG-"
      },
      "source": [
        "#### Task 2.1.2 Train a \"shallow\" ConvNet\n",
        "\n",
        "Build a ConvNet with fewer than 10 layers. Train the network until it converges. You will use this network as a baseline for the later experiments. \n",
        "\n",
        "- Plot the training and validation history. \n",
        "- Report the testing accuracy. "
      ]
    },
    {
      "cell_type": "code",
      "metadata": {
        "id": "Mr8eSfeA-a8e"
      },
      "source": [
        "import tensorflow_datasets as tfds\n",
        "TRAIN_DS_SIZE = 30000\n",
        "VALID_DS_SIZE = 10000\n",
        "TEST_DS_SIZE = 10000\n",
        "\n",
        "(cifar10_train, cifar10_valid, cifar10_test), info = tfds.load('cifar10', \n",
        "                                                               split=[f'train[:{TRAIN_DS_SIZE}]', \n",
        "                                                                      f'train[{TRAIN_DS_SIZE}:{TRAIN_DS_SIZE + VALID_DS_SIZE}]', \n",
        "                                                                      f'train[{TRAIN_DS_SIZE + VALID_DS_SIZE}:{TRAIN_DS_SIZE + VALID_DS_SIZE + TEST_DS_SIZE}]'],\n",
        "                                                               with_info=True,\n",
        "                                                               as_supervised=True)"
      ],
      "execution_count": null,
      "outputs": []
    },
    {
      "cell_type": "code",
      "metadata": {
        "id": "5wCsa1YqEcNp"
      },
      "source": [
        "AUTOTUNE = tf.data.experimental.AUTOTUNE\n",
        "def pre_process_image(image, label):\n",
        "  image = tf.image.convert_image_dtype(image, tf.float32) ##rescaling the image\n",
        "  return image, label\n",
        "\n",
        "TRAIN_BATCH_SIZE = 32\n",
        "train_batches = cifar10_train.map(pre_process_image).batch(TRAIN_BATCH_SIZE).shuffle(buffer_size=1000).cache().prefetch(AUTOTUNE)\n",
        "validatioin_batches = cifar10_valid.map(pre_process_image).batch(TRAIN_BATCH_SIZE).shuffle(buffer_size=1000).cache().prefetch(AUTOTUNE)"
      ],
      "execution_count": null,
      "outputs": []
    },
    {
      "cell_type": "code",
      "metadata": {
        "id": "-2OofZk3CSE-"
      },
      "source": [
        "model = keras.Sequential([\n",
        "               keras.layers.Conv2D(32,(3,3),activation='relu',input_shape=(32,32,3)) ,\n",
        "               keras.layers.MaxPooling2D((2,2)),\n",
        "               keras.layers.Conv2D(64,(3,3),activation='relu'),\n",
        "               keras.layers.MaxPooling2D((2,2)),\n",
        "               keras.layers.Conv2D(64,(3,3),activation='relu') ,\n",
        "               keras.layers.Flatten(),\n",
        "               keras.layers.Dense(64,activation='relu'),\n",
        "               keras.layers.Dense(10,activation='softmax') ])               \n"
      ],
      "execution_count": null,
      "outputs": []
    },
    {
      "cell_type": "code",
      "metadata": {
        "id": "kg3S9bTweRDS"
      },
      "source": [
        "model.summary()"
      ],
      "execution_count": null,
      "outputs": []
    },
    {
      "cell_type": "code",
      "metadata": {
        "id": "EaMqXfqWWJJZ"
      },
      "source": [
        "model.compile(optimizer= keras.optimizers.SGD(),\n",
        "                     loss= keras.losses.sparse_categorical_crossentropy,\n",
        "                     metrics=['accuracy'])\n"
      ],
      "execution_count": null,
      "outputs": []
    },
    {
      "cell_type": "code",
      "metadata": {
        "id": "hbf73_aLYu99"
      },
      "source": [
        "%%time\n",
        "history_cirfat = model.fit(train_batches,epochs=100, validation_data=validatioin_batches,\n",
        "                            )"
      ],
      "execution_count": null,
      "outputs": []
    },
    {
      "cell_type": "code",
      "metadata": {
        "id": "syS_ARNWEqaw"
      },
      "source": [
        "test_batches = cifar10_test.map(pre_process_image).batch(TRAIN_BATCH_SIZE)"
      ],
      "execution_count": null,
      "outputs": []
    },
    {
      "cell_type": "code",
      "metadata": {
        "id": "6wqoi0JIE7Xo",
        "outputId": "71423d5b-c595-411e-c6e9-feca122fb82c",
        "colab": {
          "base_uri": "https://localhost:8080/",
          "height": 51
        }
      },
      "source": [
        "model.evaluate(test_batches)"
      ],
      "execution_count": null,
      "outputs": [
        {
          "output_type": "stream",
          "text": [
            "313/313 [==============================] - 1s 4ms/step - loss: 3.8099 - accuracy: 0.6487\n"
          ],
          "name": "stdout"
        },
        {
          "output_type": "execute_result",
          "data": {
            "text/plain": [
              "[3.809903860092163, 0.6486999988555908]"
            ]
          },
          "metadata": {
            "tags": []
          },
          "execution_count": 28
        }
      ]
    },
    {
      "cell_type": "markdown",
      "metadata": {
        "id": "Qp5c6nueK0Hr"
      },
      "source": [
        "Task | Model | Epochs | Training_Time | Test_Accuracy\n",
        "--- | --- | --- | --- | --- |\n",
        "Inital_CNN | CIFAR10 | 100 | 6mins 59s  |  0.6487"
      ]
    },
    {
      "cell_type": "code",
      "metadata": {
        "id": "eUKAyFZgHupl",
        "outputId": "0c5f84d4-895b-4357-b129-4aa732ae32d4",
        "colab": {
          "base_uri": "https://localhost:8080/",
          "height": 300
        }
      },
      "source": [
        "plt.plot(history_cirfat.history['accuracy'],label='accuracy')\n",
        "plt.plot(history_cirfat.history['val_accuracy'],label='val_accuracy')\n",
        "plt.xlabel('Epoch')\n",
        "plt.ylabel('Accuracy')\n",
        "#plt.xlim([1,100])\n",
        "plt.ylim([0,2])\n",
        "plt.legend(loc='upper right')\n"
      ],
      "execution_count": null,
      "outputs": [
        {
          "output_type": "execute_result",
          "data": {
            "text/plain": [
              "<matplotlib.legend.Legend at 0x7f380de065c0>"
            ]
          },
          "metadata": {
            "tags": []
          },
          "execution_count": 29
        },
        {
          "output_type": "display_data",
          "data": {
            "image/png": "[encoded data removed]",
            "text/plain": [
              "<Figure size 432x288 with 1 Axes>"
            ]
          },
          "metadata": {
            "tags": [],
            "needs_background": "light"
          }
        }
      ]
    },
    {
      "cell_type": "code",
      "metadata": {
        "id": "st7Qn2aVYjcQ",
        "outputId": "9a4b99a0-0db5-4865-edbf-f16e898615be",
        "colab": {
          "base_uri": "https://localhost:8080/",
          "height": 300
        }
      },
      "source": [
        "plt.plot(history_cirfat.history['loss'],label='loss')\n",
        "plt.plot(history_cirfat.history['val_loss'],label='val_loss')\n",
        "plt.xlabel('Epoch')\n",
        "plt.ylabel('Loss')\n",
        "#plt.xlim([1,100])\n",
        "plt.ylim([0,2])\n",
        "plt.legend(loc='upper right')\n"
      ],
      "execution_count": null,
      "outputs": [
        {
          "output_type": "execute_result",
          "data": {
            "text/plain": [
              "<matplotlib.legend.Legend at 0x7f380d8ea208>"
            ]
          },
          "metadata": {
            "tags": []
          },
          "execution_count": 30
        },
        {
          "output_type": "display_data",
          "data": {
            "image/png": "[encoded data removed]",
            "text/plain": [
              "<Figure size 432x288 with 1 Axes>"
            ]
          },
          "metadata": {
            "tags": [],
            "needs_background": "light"
          }
        }
      ]
    },
    {
      "cell_type": "markdown",
      "metadata": {
        "id": "C6Kvk6UOQlqy"
      },
      "source": [
        ">\n",
        "###### **Note:** The above figures shows the loss value  becomes 0 after epoch 83 and accuracy value become converges so I stop training data."
      ]
    },
    {
      "cell_type": "markdown",
      "metadata": {
        "id": "9NTjVIUkmv7S"
      },
      "source": [
        "#### Task 2.1.3 Train a ResNet\n",
        "\n",
        "Train a residual neural network (ResNet) on the CIFAR10 training data and report the test accuracy and the training time.\n",
        "\n",
        "The ResNet is a popular network architecture for image classification. You may find more information about how ResNet works by reading this [paper](https://arxiv.org/abs/1512.03385).\n",
        "\n",
        "\n",
        "*(You may implement a resnet model or use an existing implementation. In either case, you should not use pretrained network weights.)*"
      ]
    },
    {
      "cell_type": "markdown",
      "metadata": {
        "id": "OIUb1sPsX0CD"
      },
      "source": [
        "\n",
        "**Answer:**. First I have made implemented  a default Resnet model with weight:None but the training time was high so I've used  keras.layers to creating  a custom layers in order to make a model ."
      ]
    },
    {
      "cell_type": "code",
      "metadata": {
        "id": "EgS18IK4K_Rn"
      },
      "source": [
        "from functools import partial\n",
        "\n",
        "DefaultConv2D = partial(keras.layers.Conv2D, kernel_size=3, strides=1,\n",
        "                        padding=\"SAME\", \n",
        "                        use_bias=False,\n",
        "                        kernel_regularizer=keras.regularizers.l2(0.1)\n",
        "                        )\n",
        "\n",
        "class ResidualUnit(keras.layers.Layer):\n",
        "    def __init__(self, filters, strides=1, activation=\"relu\", **kwargs):\n",
        "        super().__init__(**kwargs)\n",
        "        self.activation = keras.activations.get(activation)\n",
        "        self.main_layers = [\n",
        "            DefaultConv2D(filters, strides=strides),\n",
        "            keras.layers.BatchNormalization(),\n",
        "            self.activation,\n",
        "            DefaultConv2D(filters),\n",
        "            keras.layers.BatchNormalization()]\n",
        "        self.skip_layers = []\n",
        "        if strides > 1:\n",
        "            self.skip_layers = [\n",
        "                DefaultConv2D(filters, kernel_size=1, strides=strides),\n",
        "                keras.layers.BatchNormalization()]\n",
        "\n",
        "    def call(self, inputs):\n",
        "        Z = inputs\n",
        "        for layer in self.main_layers:\n",
        "            Z = layer(Z)\n",
        "        skip_Z = inputs\n",
        "        for layer in self.skip_layers:\n",
        "            skip_Z = layer(skip_Z)\n",
        "        return self.activation(Z + skip_Z)"
      ],
      "execution_count": null,
      "outputs": []
    },
    {
      "cell_type": "code",
      "metadata": {
        "id": "KzKl4Ge4LKDk"
      },
      "source": [
        "def make_ResNet_model ():\n",
        "  model = keras.models.Sequential()\n",
        "  prev_filters = 32\n",
        "  c = [prev_filters, 2*prev_filters, 4*prev_filters, 4*prev_filters]\n",
        "  model.add(DefaultConv2D(c[0],input_shape=[32, 32, 3]))                                                                      \n",
        "  model.add(ResidualUnit(c[0], strides=1))\n",
        "  model.add(ResidualUnit(c[1], strides=2))\n",
        "  model.add(ResidualUnit(c[2], strides=2))\n",
        "  model.add(ResidualUnit(c[3], strides=2))\n",
        "  model.add(keras.layers.MaxPool2D(pool_size=(2, 2)))\n",
        "  model.add(keras.layers.Flatten())\n",
        "  model.add(keras.layers.Dense(10, activation=\"softmax\"))\n",
        "  return model"
      ],
      "execution_count": null,
      "outputs": []
    },
    {
      "cell_type": "code",
      "metadata": {
        "id": "YJK4jcrTL0xH"
      },
      "source": [
        "model_initial_Resnet = make_ResNet_model()"
      ],
      "execution_count": null,
      "outputs": []
    },
    {
      "cell_type": "code",
      "metadata": {
        "id": "_GJq0v8vLaJs"
      },
      "source": [
        "model_initial_Resnet.compile(optimizer= 'sgd',loss=keras.losses.sparse_categorical_crossentropy,metrics=['accuracy'])\n"
      ],
      "execution_count": null,
      "outputs": []
    },
    {
      "cell_type": "code",
      "metadata": {
        "id": "cB3GADnaLiYk"
      },
      "source": [
        "%%time\n",
        "history_Resnet = model_initial_Resnet.fit(train_batches,epochs=100,\n",
        "                           validation_data=validatioin_batches,\n",
        "                           )"
      ],
      "execution_count": null,
      "outputs": []
    },
    {
      "cell_type": "code",
      "metadata": {
        "id": "SGxu1NF9R3rS",
        "outputId": "f6a43289-d8e1-4c5a-a4bf-fa1252c3e790",
        "colab": {
          "base_uri": "https://localhost:8080/",
          "height": 51
        }
      },
      "source": [
        "model_initial_Resnet.evaluate(test_batches)"
      ],
      "execution_count": null,
      "outputs": [
        {
          "output_type": "stream",
          "text": [
            "313/313 [==============================] - 1s 5ms/step - loss: 2.5884 - accuracy: 0.4206\n"
          ],
          "name": "stdout"
        },
        {
          "output_type": "execute_result",
          "data": {
            "text/plain": [
              "[2.5884146690368652, 0.4205999970436096]"
            ]
          },
          "metadata": {
            "tags": []
          },
          "execution_count": 64
        }
      ]
    },
    {
      "cell_type": "code",
      "metadata": {
        "id": "-8qVa7BmClFv"
      },
      "source": [
        "## it is very time_consuming model\n",
        "#from keras.applications import ResNet50\n",
        "#baseModel =  ResNet50(include_top=False,weights=None,input_shape=(32,32,3))"
      ],
      "execution_count": null,
      "outputs": []
    },
    {
      "cell_type": "markdown",
      "metadata": {
        "id": "AH6ZBiECzS75"
      },
      "source": [
        "### Task 2.2 Fast training of ResNet\n",
        "\n",
        "*(weight ~5%)*\n",
        "\n",
        "In this task, you will experiment with different ways to reduce the time for training your ResNet on CIFAR10. There are different ways to speed up neural network training; below are two ideas. Please select at least one idea to implement. Explain the experiment steps and report the final performance and training time.\n",
        "\n",
        "#### Option 1. Learning rate schedule\n",
        "\n",
        "Use a learning rate schedule for the training. Some popular learning rate schedules include \n",
        "\n",
        "- the Step Decay learning rate (e.g., see [here](https://github.com/kuangliu/pytorch-cifar))\n",
        "- [Cyclical learning rates](https://arxiv.org/abs/1506.01186)\n",
        "- [The exponential learning rate](https://openreview.net/forum?id=rJg8TeSFDH) \n",
        "\n",
        "Also Keras provides [some convenient functions](https://www.tensorflow.org/api_docs/python/tf/keras/optimizers/schedules) that you can use.\n",
        "\n",
        "\n",
        "#### Option 2. Look ahead optimiser\n",
        "\n",
        "Read [this paper](https://arxiv.org/abs/1907.08610) and implement the Lookahead optimiser."
      ]
    },
    {
      "cell_type": "markdown",
      "metadata": {
        "id": "x7qzQhAsSBME"
      },
      "source": [
        ">\n",
        "###### **Note:** I make models with using step decay learning rate and the exponential learning rate in callbacks function. Training time has been reduced with expontial learning rate. Both of step decay learning rate and the expontential learning rate have significant improvment in Test Accuracy."
      ]
    },
    {
      "cell_type": "code",
      "metadata": {
        "id": "E3EKPXgqaUFO"
      },
      "source": [
        "from keras import callbacks\n",
        "from keras.callbacks import LearningRateScheduler"
      ],
      "execution_count": null,
      "outputs": []
    },
    {
      "cell_type": "code",
      "metadata": {
        "id": "SWedGY7NV41S"
      },
      "source": [
        "def step_decay(epoch):\n",
        "  initial_lrate = 0.1\n",
        "  drop = 0.5\n",
        "  epochs_drop =10.0\n",
        "  #lrate = initial_lrate * np.math.pow(drop,np.math.floor((epoch)/epochs_drop))\n",
        "  lrate = (initial_lrate)*(1/(1+(epochs_drop*epoch)))\n",
        "  return lrate\n",
        "\n"
      ],
      "execution_count": null,
      "outputs": []
    },
    {
      "cell_type": "code",
      "metadata": {
        "id": "PJV0kDGXY9Io"
      },
      "source": [
        "class LossHistory(keras.callbacks.Callback):\n",
        "    def on_train_begin(self, logs={}):\n",
        "       self.losses = []\n",
        "       self.lr = []\n",
        " \n",
        "    def on_epoch_end(self, batch, logs={}):\n",
        "       self.losses.append(logs.get('loss'))\n",
        "       self.lr.append(step_decay(len(self.losses)))"
      ],
      "execution_count": null,
      "outputs": []
    },
    {
      "cell_type": "code",
      "metadata": {
        "id": "2w-NPhZSZEKc"
      },
      "source": [
        "loss_history = LossHistory()\n",
        "lrate = LearningRateScheduler(step_decay)\n",
        "callbacks_list = [loss_history,lrate]\n"
      ],
      "execution_count": null,
      "outputs": []
    },
    {
      "cell_type": "code",
      "metadata": {
        "id": "6YmGK2jcZE1a"
      },
      "source": [
        "model_step_decay = make_ResNet_model()"
      ],
      "execution_count": null,
      "outputs": []
    },
    {
      "cell_type": "code",
      "metadata": {
        "id": "hIT1TRFjZbFT"
      },
      "source": [
        "model_step_decay.compile(optimizer= 'sgd',loss=keras.losses.sparse_categorical_crossentropy,metrics=['accuracy'])"
      ],
      "execution_count": null,
      "outputs": []
    },
    {
      "cell_type": "code",
      "metadata": {
        "id": "VFncmr6mZT-3"
      },
      "source": [
        "## Step Decay learning rate\n",
        "%%time\n",
        "history_step_decay = model_step_decay.fit(train_batches,\n",
        "                               epochs=100,\n",
        "                               callbacks=callbacks_list,                              \n",
        "                               validation_data=validatioin_batches)"
      ],
      "execution_count": null,
      "outputs": []
    },
    {
      "cell_type": "code",
      "metadata": {
        "id": "Hvw5fRMZoddQ",
        "outputId": "6089d261-ffa6-44ca-873f-bbaee72cec2c",
        "colab": {
          "base_uri": "https://localhost:8080/",
          "height": 51
        }
      },
      "source": [
        "model_step_decay.evaluate(test_batches)"
      ],
      "execution_count": null,
      "outputs": [
        {
          "output_type": "stream",
          "text": [
            "313/313 [==============================] - 1s 5ms/step - loss: 1.3137 - accuracy: 0.6834\n"
          ],
          "name": "stdout"
        },
        {
          "output_type": "execute_result",
          "data": {
            "text/plain": [
              "[1.3137211799621582, 0.6833999752998352]"
            ]
          },
          "metadata": {
            "tags": []
          },
          "execution_count": 83
        }
      ]
    },
    {
      "cell_type": "code",
      "metadata": {
        "id": "pFNGGTLkpE69"
      },
      "source": [
        "model_exponential_lr = make_ResNet_model()"
      ],
      "execution_count": null,
      "outputs": []
    },
    {
      "cell_type": "code",
      "metadata": {
        "id": "2ISxpU2qpOFq"
      },
      "source": [
        "model_exponential_lr.compile(optimizer='sgd',loss=keras.losses.sparse_categorical_crossentropy,metrics=['accuracy'])"
      ],
      "execution_count": null,
      "outputs": []
    },
    {
      "cell_type": "code",
      "metadata": {
        "id": "cs3GL42F2yJ_"
      },
      "source": [
        "## Exponential learning rate \n",
        "class LossHistory(keras.callbacks.Callback):\n",
        "    def on_train_begin(self, logs={}):\n",
        "       self.losses = []\n",
        "       self.lr = []\n",
        " \n",
        "    def on_epoch_end(self, batch, logs={}):\n",
        "       self.losses.append(logs.get('loss'))\n",
        "       self.lr.append(exp_decay(len(self.losses)))\n",
        "\n",
        "def exp_decay(epoch):\n",
        "    initial_lrate = 0.1\n",
        "    k = 0.1\n",
        "    lrate = initial_lrate * np.exp(-k*epoch)\n",
        "    return lrate\n",
        "\n",
        "\n",
        "\n",
        "\n",
        "loss_history = LossHistory()\n",
        "lrate = LearningRateScheduler(exp_decay)\n",
        "callbacks_list_exponential= [loss_history,lrate]     \n",
        "\n"
      ],
      "execution_count": null,
      "outputs": []
    },
    {
      "cell_type": "code",
      "metadata": {
        "id": "0BcDBKu24BBP"
      },
      "source": [
        "%%time\n",
        "history_exponential_decay = model_exponential_lr.fit(train_batches,\n",
        "                               validation_data=validatioin_batches,\n",
        "                               epochs=100,\n",
        "                               callbacks=callbacks_list_exponential,\n",
        "                               )\n",
        "# history_exponential_decay = model.fit(train_batches,\n",
        "#                                steps_per_epoch=30,\n",
        "#                                epochs=100,\n",
        "#                                callbacks=callbacks_list,\n",
        "#                                validation_steps=30,\n",
        "#                                validation_data=validatioin_batches)"
      ],
      "execution_count": null,
      "outputs": []
    },
    {
      "cell_type": "code",
      "metadata": {
        "id": "mdkf-DOET7q0",
        "outputId": "756c4105-4085-4517-b6ea-655b630d1013",
        "colab": {
          "base_uri": "https://localhost:8080/",
          "height": 51
        }
      },
      "source": [
        "model_exponential_lr.evaluate(test_batches)"
      ],
      "execution_count": null,
      "outputs": [
        {
          "output_type": "stream",
          "text": [
            "313/313 [==============================] - 1s 5ms/step - loss: 0.8687 - accuracy: 0.7790\n"
          ],
          "name": "stdout"
        },
        {
          "output_type": "execute_result",
          "data": {
            "text/plain": [
              "[0.868664562702179, 0.7789999842643738]"
            ]
          },
          "metadata": {
            "tags": []
          },
          "execution_count": 24
        }
      ]
    },
    {
      "cell_type": "markdown",
      "metadata": {
        "id": "C8cKfAOjpn7c"
      },
      "source": [
        "### Task 2.3 Performance comparison\n",
        "\n",
        "*(weight ~5%)*\n",
        "\n",
        "Based on the above experiments, which method or which combination of methods result in the best accuracy with the same training time."
      ]
    },
    {
      "cell_type": "markdown",
      "metadata": {
        "id": "BehVlwLtWZed"
      },
      "source": [
        "Model | Task | Epochs | Training_Time | Test_Accuracy\n",
        "--- | --- | --- | --- | --- |\n",
        "Inital_ResNet | CIFAR10(ResNet) | 100 | 14min 43s  |  0.4206\n",
        "Step_decay_learning_rate | CIFAR10(ResNet) | 100 | 14min 53s  |  0.6834\n",
        "Exponential_learning_rate | CIFAR10(ResNet) | 100 | 14min 31s  |  0.7790 \n",
        "\n",
        "\n",
        "**Answer** :    with almost same training time the model with  exponential_learning _rate has the highest accuracy. it is clear from the results  making a model with  using step decay leaening rate or Exponential learning rate has significant improvment in the Test accuracy."
      ]
    },
    {
      "cell_type": "markdown",
      "metadata": {
        "id": "XC6kjvbRpvPg"
      },
      "source": [
        "## Task 3 Design a novel deep neural network model (Challenge Task for Targeting HD Grades)\n",
        "\n",
        "*(weight ~11%)*\n",
        "Here, you have to show your critical idea to design a new neural network model. We will evaluate your results based on the novelty of the model and performance of the model. "
      ]
    },
    {
      "cell_type": "markdown",
      "metadata": {
        "id": "iJo_e5Q7pvPh"
      },
      "source": [
        "### Task 3.1: The key idea to design a novel deep neural networks for CIFAR10\n",
        "\n",
        "*(weight ~5%)*\n",
        "\n",
        "In this task, you will design a novel deep neural networks on the [CIFAR10 dataset](https://www.cs.toronto.edu/~kriz/cifar.html). CIFAR10 represents a relatively larger multi-class classification problem and presents a great opportunity for you to solve a \"harder\" problem. Different from Task 2, in this task you are required to design a novel neural network and optimize the performance in classification. In your answer, you have to clearly present what the key difference between your model and the classic ones, what the benefits in your design model."
      ]
    },
    {
      "cell_type": "markdown",
      "metadata": {
        "id": "ZQUUZd2OkuOx"
      },
      "source": [
        "------\n",
        "\n",
        "**Answer :** I have used the same initial model ( ResNet ) with data Augmentation and exponential learning rate for callbacks function which I have used in Task 2 . I have tried to add a simple custom loss function to calculate average loss by prediction probabilty and target by selecting tf.keras.losses.SparseCategoricalCrossentropy as loss function . I have used gradient to optimize the model. I have increased filter size for convolutional layers in ResNet model and also used GlobelMaxpooling instead of Maxpooling.The highest Test accuracy I have achieved is 0.8133 which is slightly better last model I have made in Task2 with Test accuracy 0.7790.\n",
        "\n"
      ]
    },
    {
      "cell_type": "markdown",
      "metadata": {
        "id": "AAbDQ6sEpvPh"
      },
      "source": [
        "### Task 3.2: The implementation of the novel deep neural networks for CIFAR10\n",
        "\n",
        "*(weight ~6%)*\n",
        "\n",
        "In this task, it requires you to write the codes for model implementation and report the performance. In your results, you have to demonstrate the compared performance of your new model and the state-of-the-art models."
      ]
    },
    {
      "cell_type": "code",
      "metadata": {
        "id": "MdpgcCoOVJ1j"
      },
      "source": [
        "import tensorflow_datasets as tfds\n",
        "TRAIN_DS_SIZE = 30000\n",
        "VALID_DS_SIZE = 10000\n",
        "TEST_DS_SIZE = 10000\n",
        "\n",
        "(cifar10_train, cifar10_valid, cifar10_test), info = tfds.load('cifar10', \n",
        "                                                               split=[f'train[:{TRAIN_DS_SIZE}]', \n",
        "                                                                      f'train[{TRAIN_DS_SIZE}:{TRAIN_DS_SIZE + VALID_DS_SIZE}]', \n",
        "                                                                      f'train[{TRAIN_DS_SIZE + VALID_DS_SIZE}:{TRAIN_DS_SIZE + VALID_DS_SIZE + TEST_DS_SIZE}]'],\n",
        "                                                               with_info=True,\n",
        "                                                               as_supervised=True)"
      ],
      "execution_count": null,
      "outputs": []
    },
    {
      "cell_type": "code",
      "metadata": {
        "id": "KojgOZvTVh2n"
      },
      "source": [
        "AUTOTUNE = tf.data.experimental.AUTOTUNE\n",
        "def pre_process_image(image, label):\n",
        "  image = tf.image.convert_image_dtype(image, tf.float32) ##rescaling the image\n",
        "  return image, label\n",
        "\n",
        "TRAIN_BATCH_SIZE = 32\n",
        "train_batches = cifar10_train.map(pre_process_image).batch(TRAIN_BATCH_SIZE).shuffle(buffer_size=1000).cache().prefetch(AUTOTUNE)\n",
        "validatioin_batches = cifar10_valid.map(pre_process_image).batch(TRAIN_BATCH_SIZE).shuffle(buffer_size=1000).cache().prefetch(AUTOTUNE)"
      ],
      "execution_count": null,
      "outputs": []
    },
    {
      "cell_type": "code",
      "metadata": {
        "id": "_7hO0_OrgeFr"
      },
      "source": [
        "test_batches = cifar10_test.map(pre_process_image).batch(TRAIN_BATCH_SIZE)"
      ],
      "execution_count": null,
      "outputs": []
    },
    {
      "cell_type": "code",
      "metadata": {
        "id": "5i2SWMKKoVbU"
      },
      "source": [
        "from functools import partial\n",
        "\n",
        "DefaultConv2D = partial(keras.layers.Conv2D, kernel_size=3, strides=1,\n",
        "                        padding=\"SAME\", \n",
        "                        use_bias=False,\n",
        "                        kernel_regularizer=keras.regularizers.l2(0.1)\n",
        "                        )\n",
        "\n",
        "class ResidualUnit(keras.layers.Layer):\n",
        "    def __init__(self, filters, strides=1, activation=\"relu\", **kwargs):\n",
        "        super().__init__(**kwargs)\n",
        "        self.activation = keras.activations.get(activation)\n",
        "        self.main_layers = [\n",
        "            DefaultConv2D(filters, strides=strides),\n",
        "            #keras.layers.MaxPooling2D((2,2)),\n",
        "            keras.layers.BatchNormalization(),\n",
        "            self.activation,\n",
        "            DefaultConv2D(filters),\n",
        "            #keras.layers.MaxPooling2D((2,2)),\n",
        "            keras.layers.BatchNormalization()]\n",
        "        self.skip_layers = []\n",
        "        if strides > 1:\n",
        "            self.skip_layers = [\n",
        "                DefaultConv2D(filters, kernel_size=1, strides=strides),\n",
        "                keras.layers.BatchNormalization()]\n",
        "\n",
        "    def call(self, inputs):\n",
        "        Z = inputs\n",
        "        for layer in self.main_layers:\n",
        "            Z = layer(Z)\n",
        "        skip_Z = inputs\n",
        "        for layer in self.skip_layers:\n",
        "            skip_Z = layer(skip_Z)\n",
        "        return self.activation(Z + skip_Z)"
      ],
      "execution_count": null,
      "outputs": []
    },
    {
      "cell_type": "code",
      "metadata": {
        "id": "V1QwtTJ4ocAP"
      },
      "source": [
        "def make_ResNet_model ():\n",
        "  model = keras.models.Sequential()\n",
        "  prev_filters = 32\n",
        "  c = [prev_filters, 4*prev_filters, 8*prev_filters, 8*prev_filters ]\n",
        "  model.add(DefaultConv2D(c[0],input_shape=[32, 32, 3]))                                                                      \n",
        "  model.add(ResidualUnit(c[0], strides=1))\n",
        "  model.add(ResidualUnit(c[1], strides=2))\n",
        "  model.add(ResidualUnit(c[2], strides=2)) \n",
        "  model.add(ResidualUnit(c[3], strides=2))\n",
        "  model.add(keras.layers.GlobalMaxPooling2D(data_format='channels_last'))\n",
        "  model.add(keras.layers.Flatten())\n",
        "  model.add(keras.layers.Dropout(0.5))\n",
        "  model.add(keras.layers.Dense(10, activation=\"softmax\"))\n",
        "  return model"
      ],
      "execution_count": null,
      "outputs": []
    },
    {
      "cell_type": "code",
      "metadata": {
        "id": "EBNtsc8NWiHD",
        "outputId": "84540df4-ece9-42cd-b757-925ceab0391e",
        "colab": {
          "base_uri": "https://localhost:8080/",
          "height": 459
        }
      },
      "source": [
        "model_novel = make_ResNet_model()\n",
        "model_novel.summary()"
      ],
      "execution_count": null,
      "outputs": [
        {
          "output_type": "stream",
          "text": [
            "Model: \"sequential_1\"\n",
            "_________________________________________________________________\n",
            "Layer (type)                 Output Shape              Param #   \n",
            "=================================================================\n",
            "conv2d_12 (Conv2D)           (None, 32, 32, 32)        864       \n",
            "_________________________________________________________________\n",
            "residual_unit_4 (ResidualUni (None, 32, 32, 32)        18688     \n",
            "_________________________________________________________________\n",
            "residual_unit_5 (ResidualUni (None, 16, 16, 128)       189952    \n",
            "_________________________________________________________________\n",
            "residual_unit_6 (ResidualUni (None, 8, 8, 256)         920576    \n",
            "_________________________________________________________________\n",
            "residual_unit_7 (ResidualUni (None, 4, 4, 256)         1248256   \n",
            "_________________________________________________________________\n",
            "global_max_pooling2d_1 (Glob (None, 256)               0         \n",
            "_________________________________________________________________\n",
            "flatten_1 (Flatten)          (None, 256)               0         \n",
            "_________________________________________________________________\n",
            "dropout_1 (Dropout)          (None, 256)               0         \n",
            "_________________________________________________________________\n",
            "dense_1 (Dense)              (None, 10)                2570      \n",
            "=================================================================\n",
            "Total params: 2,380,906\n",
            "Trainable params: 2,376,938\n",
            "Non-trainable params: 3,968\n",
            "_________________________________________________________________\n"
          ],
          "name": "stdout"
        }
      ]
    },
    {
      "cell_type": "code",
      "metadata": {
        "id": "YwxMv-pdbcsU"
      },
      "source": [
        "## first one\n",
        "def data_augmentation(images,labels):\n",
        "  IMAGE_SIZE = (64,64)\n",
        "  #images = tf.image.random_flip_left_right(images)\n",
        "  image = tf.image.resize(images, (IMAGE_SIZE))\n",
        "  #image = tf.image.rgb_to_grayscale(images)\n",
        "  images = tf.image.resize_with_crop_or_pad(images,32,32)\n",
        "  #images = tf.image.random_flip_up_down(images)\n",
        "  #images = tf.image.central_crop(images,0.9)\n",
        "  images = tf.image.flip_left_right(images)\n",
        "  images = tf.image.rot90(images)\n",
        "  \n",
        "  return images,labels"
      ],
      "execution_count": null,
      "outputs": []
    },
    {
      "cell_type": "code",
      "metadata": {
        "id": "AUvGUBw3beH2"
      },
      "source": [
        "train_batches = train_batches.map(data_augmentation)\n",
        "validatioin_batches = validatioin_batches.map(data_augmentation)\n",
        "test_batches = test_batches.map(data_augmentation)"
      ],
      "execution_count": null,
      "outputs": []
    },
    {
      "cell_type": "code",
      "metadata": {
        "id": "pOJ0M4v0eWLg"
      },
      "source": [
        "## Exponential learning rate \n",
        "class LossHistory(keras.callbacks.Callback):\n",
        "    def on_train_begin(self, logs={}):\n",
        "       self.losses = []\n",
        "       self.lr = []\n",
        " \n",
        "    def on_epoch_end(self, batch, logs={}):\n",
        "       self.losses.append(logs.get('loss'))\n",
        "       self.lr.append(exp_decay(len(self.losses)))\n",
        "\n",
        "def exp_decay(epoch):\n",
        "    initial_lrate = 0.1\n",
        "    k = 0.1\n",
        "    lrate = initial_lrate * np.exp(-k*epoch)\n",
        "    return lrate\n",
        "loss_history = LossHistory()\n",
        "lrate = LearningRateScheduler(exp_decay)\n",
        "callbacks_list_exponential= [loss_history,lrate]     "
      ],
      "execution_count": null,
      "outputs": []
    },
    {
      "cell_type": "code",
      "metadata": {
        "id": "D7DEKiVf8h8G"
      },
      "source": [
        "## defining a custom loss function \n",
        "loss_object = tf.keras.losses.SparseCategoricalCrossentropy(from_logits=True)\n",
        "optimizer = tf.keras.optimizers.SGD(learning_rate=0.01)\n",
        "def loss(model, x, y, training):\n",
        "  y_ = model(x, training=training)\n",
        "\n",
        "  return loss_object(y_true=y, y_pred=y_)\n",
        "def grad(model, inputs, targets):\n",
        "  ## optimize the model with gradient\n",
        "  with tf.GradientTape() as tape:\n",
        "    loss_value = loss(model, inputs, targets, training=True)\n",
        "  return loss_value, tape.gradient(loss_value, model.trainable_variables)\n",
        "for x, y in train_batches:\n",
        "  loss_value, grads = grad(model_novel, x, y)\n",
        "  optimizer.apply_gradients(zip(grads, model_novel.trainable_variables))"
      ],
      "execution_count": null,
      "outputs": []
    },
    {
      "cell_type": "code",
      "metadata": {
        "id": "qy0g9Ac1TvWT"
      },
      "source": [
        "model_novel.compile(optimizer=optimizer,loss = keras.losses.sparse_categorical_crossentropy,\n",
        "                       metrics=['accuracy'])"
      ],
      "execution_count": null,
      "outputs": []
    },
    {
      "cell_type": "code",
      "metadata": {
        "id": "NgEXJf8HThsU"
      },
      "source": [
        "%%time\n",
        "history_novel = model_novel.fit(train_batches,epochs=100,validation_data=validatioin_batches,callbacks=callbacks_list_exponential)"
      ],
      "execution_count": null,
      "outputs": []
    },
    {
      "cell_type": "code",
      "metadata": {
        "id": "U7YDsdMGW9aS",
        "outputId": "eb8a5c32-2aa7-4cc8-d5b6-b29b00f56eff",
        "colab": {
          "base_uri": "https://localhost:8080/",
          "height": 51
        }
      },
      "source": [
        "model_novel.evaluate(test_batches)"
      ],
      "execution_count": null,
      "outputs": [
        {
          "output_type": "stream",
          "text": [
            "313/313 [==============================] - 2s 5ms/step - loss: 0.7452 - accuracy: 0.8133\n"
          ],
          "name": "stdout"
        },
        {
          "output_type": "execute_result",
          "data": {
            "text/plain": [
              "[0.7451620697975159, 0.8133000135421753]"
            ]
          },
          "metadata": {
            "tags": []
          },
          "execution_count": 19
        }
      ]
    },
    {
      "cell_type": "markdown",
      "metadata": {
        "id": "t2i4pVSCuGwr"
      },
      "source": [
        "Model | Task | Epochs | Training_Time | Test_Accuracy\n",
        "--- | --- | --- | --- | --- |\n",
        "Novel_model| CIFAR10(ResNet) | 100 | 21min 28s  |  0.8133\n",
        "Exponential_learning_rate | CIFAR10(ResNet) | 100 | 14min 31s  |  0.7790 "
      ]
    }
  ]
}